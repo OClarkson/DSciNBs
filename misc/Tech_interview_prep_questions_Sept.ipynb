{
 "cells": [
  {
   "cell_type": "code",
   "execution_count": 1,
   "id": "50e88827",
   "metadata": {},
   "outputs": [],
   "source": [
    "import numpy as np\n",
    "from datetime import datetime"
   ]
  },
  {
   "cell_type": "markdown",
   "id": "083edbfc",
   "metadata": {},
   "source": [
    "# Given two dates in the provided format, create a function that calculates the difference between two dates in seconds"
   ]
  },
  {
   "cell_type": "code",
   "execution_count": 2,
   "id": "409cfcef",
   "metadata": {},
   "outputs": [],
   "source": [
    "t1 = 'Sat 02 May 2015 19:54:36 +0530'\n",
    "t2 = 'Fri 01 May 2015 13:54:36 -0000'"
   ]
  },
  {
   "cell_type": "markdown",
   "id": "c77751f4",
   "metadata": {},
   "source": [
    "# Find the second to highest number in a list."
   ]
  },
  {
   "cell_type": "code",
   "execution_count": 3,
   "id": "5aae08c9",
   "metadata": {},
   "outputs": [],
   "source": [
    "some_list = [np.random.randint(100) for i in range(50)]"
   ]
  },
  {
   "cell_type": "code",
   "execution_count": 4,
   "id": "0901f330",
   "metadata": {},
   "outputs": [],
   "source": [
    "#some_list"
   ]
  },
  {
   "cell_type": "code",
   "execution_count": 5,
   "id": "3bc3d3f2",
   "metadata": {},
   "outputs": [],
   "source": [
    "#full \n",
    "def sec_to_lastV1(a_list):\n",
    "    sorted_list = []\n",
    "    for i in range(0,len(some_list)):\n",
    "        for j in range(i+1,len(some_list)):\n",
    "            if some_list[i] > some_list[j]:\n",
    "                some_list[i],some_list[j] = some_list[j], some_list[i]\n",
    "    #print(i,j)\n",
    "    return('second to last = {}'.format(some_list[-2]))\n"
   ]
  },
  {
   "cell_type": "code",
   "execution_count": 6,
   "id": "1b429050",
   "metadata": {},
   "outputs": [
    {
     "data": {
      "text/plain": [
       "'second to last = 87'"
      ]
     },
     "execution_count": 6,
     "metadata": {},
     "output_type": "execute_result"
    }
   ],
   "source": [
    "sec_to_lastV1(some_list)"
   ]
  },
  {
   "cell_type": "code",
   "execution_count": 12,
   "id": "07f7383d",
   "metadata": {},
   "outputs": [
    {
     "name": "stdout",
     "output_type": "stream",
     "text": [
      "134 µs ± 1.53 µs per loop (mean ± std. dev. of 7 runs, 10000 loops each)\n"
     ]
    }
   ],
   "source": [
    "%timeit sec_to_lastV1(some_list)"
   ]
  },
  {
   "cell_type": "code",
   "execution_count": 8,
   "id": "ab09d896",
   "metadata": {},
   "outputs": [],
   "source": [
    "#numpy\n",
    "def sec_to_lastV2(a_list):\n",
    "    some_array = np.array(some_list)\n",
    "    some_array_sorted = np.sort(some_array)\n",
    "    return(some_array_sorted[-2])\n",
    "    "
   ]
  },
  {
   "cell_type": "code",
   "execution_count": 9,
   "id": "916c0a3d",
   "metadata": {},
   "outputs": [
    {
     "data": {
      "text/plain": [
       "87"
      ]
     },
     "execution_count": 9,
     "metadata": {},
     "output_type": "execute_result"
    }
   ],
   "source": [
    "sec_to_lastV2(some_list)"
   ]
  },
  {
   "cell_type": "code",
   "execution_count": 13,
   "id": "550ca99f",
   "metadata": {},
   "outputs": [
    {
     "name": "stdout",
     "output_type": "stream",
     "text": [
      "8.3 µs ± 96 ns per loop (mean ± std. dev. of 7 runs, 100000 loops each)\n"
     ]
    }
   ],
   "source": [
    "%timeit sec_to_lastV2(some_list)"
   ]
  },
  {
   "cell_type": "markdown",
   "id": "456fe1e6",
   "metadata": {},
   "source": [
    "# FizzBuzz"
   ]
  },
  {
   "cell_type": "code",
   "execution_count": 30,
   "id": "91a208f0",
   "metadata": {},
   "outputs": [],
   "source": [
    "def trad_fizzbuzz():\n",
    "    \n",
    "    with io.capture_output() as captured:\n",
    "        for i in range(1,101):\n",
    "            if i % 5 == 0 and i % 3 == 0:\n",
    "                print(i, 'FizzBuzz')\n",
    "            elif i % 5 == 0:\n",
    "                print(i, 'Buzz')\n",
    "            elif i % 3 == 0:\n",
    "                print(i, 'Fizz')\n",
    "            else:\n",
    "                (print(i))"
   ]
  },
  {
   "cell_type": "code",
   "execution_count": 109,
   "id": "b1b19c6c",
   "metadata": {},
   "outputs": [
    {
     "name": "stdout",
     "output_type": "stream",
     "text": [
      "332 µs ± 12.9 µs per loop (mean ± std. dev. of 7 runs, 1000 loops each)\n"
     ]
    }
   ],
   "source": [
    "%timeit  trad_fizzbuzz()"
   ]
  },
  {
   "cell_type": "code",
   "execution_count": 112,
   "id": "35210e58",
   "metadata": {},
   "outputs": [],
   "source": [
    "def vector_fb():\n",
    "    with io.capture_output() as captured:\n",
    "        x = np.arange(1, 101)\n",
    "        conditions = [(x%3==0) & (x%5==0), x%3==0, x%5==0 ]\n",
    "        strings = [\"Fizzbuzz\", \"Fizz\", \"Buzz\"]\n",
    "        res = np.select(conditions, strings, x)\n",
    "        return(print(res))"
   ]
  },
  {
   "cell_type": "code",
   "execution_count": 113,
   "id": "81c82870",
   "metadata": {},
   "outputs": [
    {
     "name": "stdout",
     "output_type": "stream",
     "text": [
      "781 µs ± 47.9 µs per loop (mean ± std. dev. of 7 runs, 1000 loops each)\n"
     ]
    }
   ],
   "source": [
    "%timeit vector_fb()"
   ]
  },
  {
   "cell_type": "markdown",
   "id": "62cd1fbe",
   "metadata": {},
   "source": [
    "# Calculate the factorial of a number"
   ]
  },
  {
   "cell_type": "code",
   "execution_count": 130,
   "id": "768f794a",
   "metadata": {},
   "outputs": [],
   "source": [
    "def factorial(x):\n",
    "    k = 1\n",
    "    for i in range(1,x):\n",
    "        k*=i\n",
    "    return(k)\n",
    "        "
   ]
  },
  {
   "cell_type": "code",
   "execution_count": 131,
   "id": "b5da8904",
   "metadata": {},
   "outputs": [
    {
     "name": "stdout",
     "output_type": "stream",
     "text": [
      "851 ns ± 12.5 ns per loop (mean ± std. dev. of 7 runs, 1000000 loops each)\n"
     ]
    }
   ],
   "source": [
    "%timeit factorial(10)"
   ]
  },
  {
   "cell_type": "code",
   "execution_count": 132,
   "id": "6d3296b4",
   "metadata": {},
   "outputs": [],
   "source": [
    "def npfactorial(x):\n",
    "    return(np.product(np.arange(1,x)))"
   ]
  },
  {
   "cell_type": "code",
   "execution_count": 133,
   "id": "90720742",
   "metadata": {},
   "outputs": [
    {
     "name": "stdout",
     "output_type": "stream",
     "text": [
      "7.21 µs ± 46.7 ns per loop (mean ± std. dev. of 7 runs, 100000 loops each)\n"
     ]
    }
   ],
   "source": [
    "%timeit npfactorial(10)"
   ]
  },
  {
   "cell_type": "markdown",
   "id": "469248bb",
   "metadata": {},
   "source": [
    "# Compute the mean of number in a list without np and with"
   ]
  },
  {
   "cell_type": "code",
   "execution_count": 146,
   "id": "4d166a4c",
   "metadata": {},
   "outputs": [],
   "source": [
    "def mymean(some_list):\n",
    "    k=0\n",
    "    for i in range(len(some_list)):\n",
    "        k+=some_list[i]\n",
    "    return(k/len(some_list))\n",
    "        "
   ]
  },
  {
   "cell_type": "code",
   "execution_count": 150,
   "id": "92d3dd83",
   "metadata": {},
   "outputs": [
    {
     "name": "stdout",
     "output_type": "stream",
     "text": [
      "781 ns ± 35.2 ns per loop (mean ± std. dev. of 7 runs, 1000000 loops each)\n"
     ]
    }
   ],
   "source": [
    "%timeit mymean([2,2,90])"
   ]
  },
  {
   "cell_type": "code",
   "execution_count": 151,
   "id": "c5a78ef9",
   "metadata": {},
   "outputs": [
    {
     "name": "stdout",
     "output_type": "stream",
     "text": [
      "16.2 µs ± 44 ns per loop (mean ± std. dev. of 7 runs, 100000 loops each)\n"
     ]
    }
   ],
   "source": [
    "%timeit np.mean([2,2,90])"
   ]
  },
  {
   "cell_type": "code",
   "execution_count": 163,
   "id": "57eac495",
   "metadata": {},
   "outputs": [],
   "source": [
    "#out of curosity what about much longer arrays?\n",
    "long_arr = np.random.randint(1,50000,10000)\n",
    "\n",
    "import random\n",
    "long_list = []\n",
    "for i in range(0,10000):\n",
    "    n = random.randint(1,50000)\n",
    "    long_list.append(n)\n",
    "#print(long_list)\n"
   ]
  },
  {
   "cell_type": "code",
   "execution_count": 166,
   "id": "c26e9f0c",
   "metadata": {},
   "outputs": [
    {
     "name": "stdout",
     "output_type": "stream",
     "text": [
      "1.07 ms ± 46.4 µs per loop (mean ± std. dev. of 7 runs, 1000 loops each)\n"
     ]
    }
   ],
   "source": [
    "%timeit mymean(long_list)"
   ]
  },
  {
   "cell_type": "code",
   "execution_count": 167,
   "id": "000c5f6f",
   "metadata": {},
   "outputs": [
    {
     "name": "stdout",
     "output_type": "stream",
     "text": [
      "827 µs ± 53 µs per loop (mean ± std. dev. of 7 runs, 1000 loops each)\n"
     ]
    }
   ],
   "source": [
    "%timeit np.mean(long_list)"
   ]
  },
  {
   "cell_type": "code",
   "execution_count": 221,
   "id": "6b336d07",
   "metadata": {},
   "outputs": [],
   "source": [
    "#Implement a string searching algorithm"
   ]
  },
  {
   "cell_type": "code",
   "execution_count": 210,
   "id": "9c5c85a7",
   "metadata": {},
   "outputs": [],
   "source": [
    "#String replacement\n",
    "\n",
    "def swap_case(s):\n",
    "    s_new =''\n",
    "    for char in s:\n",
    "        if char.isupper():\n",
    "            s_new += char.lower()\n",
    "        elif char.islower():\n",
    "            s_new += char.upper()\n",
    "        else:\n",
    "            s_new += char\n",
    "    return(s_new)\n",
    "\n",
    "\n"
   ]
  },
  {
   "cell_type": "code",
   "execution_count": 213,
   "id": "582f3923",
   "metadata": {},
   "outputs": [
    {
     "data": {
      "text/plain": [
       "'oThWhGGoTr'"
      ]
     },
     "execution_count": 213,
     "metadata": {},
     "output_type": "execute_result"
    }
   ],
   "source": [
    "swap_case('OtHwHggOtR')"
   ]
  },
  {
   "cell_type": "code",
   "execution_count": null,
   "id": "ca41c710",
   "metadata": {},
   "outputs": [],
   "source": []
  }
 ],
 "metadata": {
  "kernelspec": {
   "display_name": "Python 3",
   "language": "python",
   "name": "python3"
  },
  "language_info": {
   "codemirror_mode": {
    "name": "ipython",
    "version": 3
   },
   "file_extension": ".py",
   "mimetype": "text/x-python",
   "name": "python",
   "nbconvert_exporter": "python",
   "pygments_lexer": "ipython3",
   "version": "3.8.8"
  }
 },
 "nbformat": 4,
 "nbformat_minor": 5
}
