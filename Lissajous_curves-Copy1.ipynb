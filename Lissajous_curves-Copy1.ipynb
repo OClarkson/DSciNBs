{
 "cells": [
  {
   "cell_type": "code",
   "execution_count": 1,
   "id": "7190b12b",
   "metadata": {},
   "outputs": [],
   "source": [
    "%matplotlib widget\n",
    "import numpy as np\n",
    "import matplotlib.pyplot as plt\n",
    "import typhon"
   ]
  },
  {
   "cell_type": "code",
   "execution_count": 2,
   "id": "79c4b976",
   "metadata": {},
   "outputs": [],
   "source": [
    "def Lissajous( a, b, t, d, A = 1, B = 1):\n",
    "    x = A * np.sin(a * t + d)\n",
    "    y = B * np.sin(b * t)\n",
    "    return(x , y)"
   ]
  },
  {
   "cell_type": "code",
   "execution_count": 146,
   "id": "9a8a433f",
   "metadata": {},
   "outputs": [],
   "source": [
    "deltas = [0, np.pi/4, np.pi/2, 3*np.pi/4, np.pi]\n",
    "a = [1,1,1,2,3,3,4,5]\n",
    "b = [1,2,3,3,4,5,5,6]\n",
    "t = np.linspace(1,1000,1000)\n",
    "c = sns.cubehelix_palette(start=.5, rot=-.5, as_cmap=True)\n",
    "colors = ['palegreen','powderblue','thistle', 'powderblue','palegreen']\n",
    "maps = [plt.get_cmap('speed'), plt.get_cmap('density'),plt.get_cmap('vorticity'),\\\n",
    "        plt.get_cmap('temperature'), plt.get_cmap('phase')]"
   ]
  },
  {
   "cell_type": "code",
   "execution_count": 148,
   "id": "0cc86269",
   "metadata": {},
   "outputs": [
    {
     "data": {
      "application/vnd.jupyter.widget-view+json": {
       "model_id": "a9dcbb5c5aba44508171d9439babe2c0",
       "version_major": 2,
       "version_minor": 0
      },
      "text/plain": [
       "Canvas(toolbar=Toolbar(toolitems=[('Home', 'Reset original view', 'home', 'home'), ('Back', 'Back to previous …"
      ]
     },
     "metadata": {},
     "output_type": "display_data"
    }
   ],
   "source": [
    "plt.close('all')\n",
    "fig, axs = plt.subplots(8, 5, sharex=True, sharey=True, figsize = (5*2,8*2))\n",
    "\n",
    "\n",
    "for i in range(len(a)):\n",
    "    for j in range(len(deltas)):\n",
    "        x, y = Lissajous(a[i],b[i],t, deltas[j])\n",
    "        axs[i,j].set_facecolor('k')\n",
    "        axs[i,j].spines['bottom'].set_color('w')\n",
    "        axs[i,j].spines['top'].set_color('w') \n",
    "        axs[i,j].spines['right'].set_color('w')\n",
    "        axs[i,j].spines['left'].set_color('w')\n",
    "        axs[i,j].scatter(x,y, s=0.7, cmap=maps[j], c=t)\n",
    "        axs[i,0].set_ylabel('a = {}, b = {}'.format(a[i], b[i]) ,fontsize=16)\n",
    "        \n",
    "plt.xticks([])\n",
    "plt.yticks([])\n",
    "axs[0,0].set_title('0', fontsize=20,y=1.0, pad=14)\n",
    "axs[0,1].set_title(r'$ \\frac{\\pi}{2}$ ', fontsize=20,y=1.0, pad=14)\n",
    "axs[0,2].set_title(r'$ \\frac{\\pi}{4} $', fontsize=20,y=1.0, pad=14)\n",
    "axs[0,3].set_title(r'$ \\frac{3\\pi}{4} $', fontsize=20,y=1.0, pad=14)\n",
    "axs[0,4].set_title(r'$ \\pi $', fontsize=20,y=1.0, pad=14)\n",
    "\n",
    "\n",
    "\n",
    "plt.tight_layout()\n",
    "plt.subplots_adjust(wspace=0, hspace=0)\n",
    "plt.savefig('Lissajous.png')"
   ]
  },
  {
   "cell_type": "code",
   "execution_count": 127,
   "id": "6399a11d",
   "metadata": {},
   "outputs": [
    {
     "data": {
      "application/vnd.jupyter.widget-view+json": {
       "model_id": "90928b20b44540ec91d62eb23cb0c635",
       "version_major": 2,
       "version_minor": 0
      },
      "text/plain": [
       "Canvas(toolbar=Toolbar(toolitems=[('Home', 'Reset original view', 'home', 'home'), ('Back', 'Back to previous …"
      ]
     },
     "metadata": {},
     "output_type": "display_data"
    }
   ],
   "source": [
    "a = [1,2,3,4,5,6]\n",
    "b = [1,2,3,4,5,6]\n",
    "t = np.linspace(1,1000,1000)\n",
    "\n",
    "colors = ['palegreen','powderblue','thistle', 'powderblue','palegreen']\n",
    "\n",
    "plt.close('all')\n",
    "fig, axs = plt.subplots(6, 6, sharex=True, sharey=True, figsize = (5*2,8*2))\n",
    "\n",
    "\n",
    "for i in range(len(a)):\n",
    "    for j in range(len(a)):\n",
    "        x, y = Lissajous(a[i],b[j],t, d= (np.pi/4))\n",
    "        axs[i,j].set_facecolor('k')\n",
    "        axs[i,j].spines['bottom'].set_color('w')\n",
    "        axs[i,j].spines['top'].set_color('w') \n",
    "        axs[i,j].spines['right'].set_color('w')\n",
    "        axs[i,j].spines['left'].set_color('w')\n",
    "        axs[i,j].scatter(x,y, s=2, cmap = plt.get_cmap('speed'), c=t)\n",
    "        #axs[i,0].set_ylabel('a = {}, b = {}'.format(a[i], b[i]) ,fontsize=16)\n",
    "\n",
    "plt.xticks([])\n",
    "plt.yticks([])\n",
    "#axs[0,0].set_title('0', fontsize=20,y=1.0, pad=14)\n",
    "#axs[0,1].set_title(r'$ \\frac{\\pi}{2}$ ', fontsize=20,y=1.0, pad=14)\n",
    "#axs[0,2].set_title(r'$ \\frac{\\pi}{4} $', fontsize=20,y=1.0, pad=14)\n",
    "#axs[0,3].set_title(r'$ \\frac{3\\pi}{4} $', fontsize=20,y=1.0, pad=14)\n",
    "#axs[0,4].set_title(r'$ \\pi $', fontsize=20,y=1.0, pad=14)\n",
    "\n",
    "\n",
    "\n",
    "plt.tight_layout()\n",
    "plt.subplots_adjust(wspace=0, hspace=0)\n",
    "plt.savefig('Lissajous_symm.png')"
   ]
  },
  {
   "cell_type": "code",
   "execution_count": 121,
   "id": "0a53269b",
   "metadata": {},
   "outputs": [],
   "source": []
  },
  {
   "cell_type": "code",
   "execution_count": 122,
   "id": "194c64d5",
   "metadata": {},
   "outputs": [],
   "source": [
    "cmap = plt.get_cmap('vorticity')"
   ]
  },
  {
   "cell_type": "code",
   "execution_count": null,
   "id": "68ba645a",
   "metadata": {},
   "outputs": [],
   "source": []
  }
 ],
 "metadata": {
  "kernelspec": {
   "display_name": "Python 3",
   "language": "python",
   "name": "python3"
  },
  "language_info": {
   "codemirror_mode": {
    "name": "ipython",
    "version": 3
   },
   "file_extension": ".py",
   "mimetype": "text/x-python",
   "name": "python",
   "nbconvert_exporter": "python",
   "pygments_lexer": "ipython3",
   "version": "3.8.8"
  }
 },
 "nbformat": 4,
 "nbformat_minor": 5
}
