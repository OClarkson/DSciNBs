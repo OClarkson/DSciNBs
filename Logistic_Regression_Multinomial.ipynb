{
 "cells": [
  {
   "cell_type": "code",
   "execution_count": 1,
   "id": "32a05dbd",
   "metadata": {},
   "outputs": [],
   "source": [
    "%matplotlib widget\n",
    "import sklearn \n",
    "from sklearn import datasets \n",
    "from sklearn.preprocessing import StandardScaler\n",
    "from sklearn.utils import shuffle\n",
    "import numpy as np\n",
    "import pandas as pd\n",
    "import matplotlib.pyplot as plt"
   ]
  },
  {
   "cell_type": "code",
   "execution_count": 2,
   "id": "432fda56",
   "metadata": {},
   "outputs": [],
   "source": [
    "iris = datasets.load_iris() #import data\n",
    "df = pd.DataFrame(iris.data)\n",
    "#print(iris.DESCR)"
   ]
  },
  {
   "cell_type": "code",
   "execution_count": 3,
   "id": "1b503bda",
   "metadata": {},
   "outputs": [],
   "source": [
    "df.columns = ['sepal_length', 'sepal_width', 'petal_length', 'petal_width'] #name columns"
   ]
  },
  {
   "cell_type": "code",
   "execution_count": 4,
   "id": "5b0c4abf",
   "metadata": {},
   "outputs": [
    {
     "data": {
      "text/plain": [
       "array([0, 0, 0, 0, 0, 0, 0, 0, 0, 0, 0, 0, 0, 0, 0, 0, 0, 0, 0, 0, 0, 0,\n",
       "       0, 0, 0, 0, 0, 0, 0, 0, 0, 0, 0, 0, 0, 0, 0, 0, 0, 0, 0, 0, 0, 0,\n",
       "       0, 0, 0, 0, 0, 0, 1, 1, 1, 1, 1, 1, 1, 1, 1, 1, 1, 1, 1, 1, 1, 1,\n",
       "       1, 1, 1, 1, 1, 1, 1, 1, 1, 1, 1, 1, 1, 1, 1, 1, 1, 1, 1, 1, 1, 1,\n",
       "       1, 1, 1, 1, 1, 1, 1, 1, 1, 1, 1, 1, 2, 2, 2, 2, 2, 2, 2, 2, 2, 2,\n",
       "       2, 2, 2, 2, 2, 2, 2, 2, 2, 2, 2, 2, 2, 2, 2, 2, 2, 2, 2, 2, 2, 2,\n",
       "       2, 2, 2, 2, 2, 2, 2, 2, 2, 2, 2, 2, 2, 2, 2, 2, 2, 2])"
      ]
     },
     "execution_count": 4,
     "metadata": {},
     "output_type": "execute_result"
    }
   ],
   "source": [
    "iris['target']"
   ]
  },
  {
   "cell_type": "code",
   "execution_count": 5,
   "id": "c724ccb1",
   "metadata": {},
   "outputs": [],
   "source": [
    "df['class'] = iris['target'] #add class column"
   ]
  },
  {
   "cell_type": "code",
   "execution_count": 6,
   "id": "58477a7c",
   "metadata": {},
   "outputs": [],
   "source": [
    "#make a little dict so I can easily label plots later\n",
    "name_class_dict = {'Setosa':0, 'Versicolor':1, 'Virginica':2}"
   ]
  },
  {
   "cell_type": "code",
   "execution_count": 7,
   "id": "44d5a8a9",
   "metadata": {},
   "outputs": [
    {
     "name": "stdout",
     "output_type": "stream",
     "text": [
      "     sepal_length  sepal_width  petal_length  petal_width  class\n",
      "0             5.1          3.5           1.4          0.2      0\n",
      "1             4.9          3.0           1.4          0.2      0\n",
      "2             4.7          3.2           1.3          0.2      0\n",
      "3             4.6          3.1           1.5          0.2      0\n",
      "4             5.0          3.6           1.4          0.2      0\n",
      "..            ...          ...           ...          ...    ...\n",
      "145           6.7          3.0           5.2          2.3      2\n",
      "146           6.3          2.5           5.0          1.9      2\n",
      "147           6.5          3.0           5.2          2.0      2\n",
      "148           6.2          3.4           5.4          2.3      2\n",
      "149           5.9          3.0           5.1          1.8      2\n",
      "\n",
      "[150 rows x 5 columns]\n"
     ]
    }
   ],
   "source": [
    "print(df)"
   ]
  },
  {
   "cell_type": "code",
   "execution_count": 8,
   "id": "96992b15",
   "metadata": {},
   "outputs": [],
   "source": [
    "#need to shuffle this\n",
    "df = shuffle(df, random_state=69)\n",
    "df.reset_index(inplace=True, drop=True) "
   ]
  },
  {
   "cell_type": "code",
   "execution_count": 9,
   "id": "78572453",
   "metadata": {},
   "outputs": [
    {
     "data": {
      "text/html": [
       "<div>\n",
       "<style scoped>\n",
       "    .dataframe tbody tr th:only-of-type {\n",
       "        vertical-align: middle;\n",
       "    }\n",
       "\n",
       "    .dataframe tbody tr th {\n",
       "        vertical-align: top;\n",
       "    }\n",
       "\n",
       "    .dataframe thead th {\n",
       "        text-align: right;\n",
       "    }\n",
       "</style>\n",
       "<table border=\"1\" class=\"dataframe\">\n",
       "  <thead>\n",
       "    <tr style=\"text-align: right;\">\n",
       "      <th></th>\n",
       "      <th>sepal_length</th>\n",
       "      <th>sepal_width</th>\n",
       "      <th>petal_length</th>\n",
       "      <th>petal_width</th>\n",
       "      <th>class</th>\n",
       "    </tr>\n",
       "  </thead>\n",
       "  <tbody>\n",
       "    <tr>\n",
       "      <th>0</th>\n",
       "      <td>5.0</td>\n",
       "      <td>3.6</td>\n",
       "      <td>1.4</td>\n",
       "      <td>0.2</td>\n",
       "      <td>0</td>\n",
       "    </tr>\n",
       "    <tr>\n",
       "      <th>1</th>\n",
       "      <td>6.6</td>\n",
       "      <td>2.9</td>\n",
       "      <td>4.6</td>\n",
       "      <td>1.3</td>\n",
       "      <td>1</td>\n",
       "    </tr>\n",
       "    <tr>\n",
       "      <th>2</th>\n",
       "      <td>5.4</td>\n",
       "      <td>3.4</td>\n",
       "      <td>1.7</td>\n",
       "      <td>0.2</td>\n",
       "      <td>0</td>\n",
       "    </tr>\n",
       "    <tr>\n",
       "      <th>3</th>\n",
       "      <td>5.8</td>\n",
       "      <td>2.8</td>\n",
       "      <td>5.1</td>\n",
       "      <td>2.4</td>\n",
       "      <td>2</td>\n",
       "    </tr>\n",
       "    <tr>\n",
       "      <th>4</th>\n",
       "      <td>5.4</td>\n",
       "      <td>3.4</td>\n",
       "      <td>1.5</td>\n",
       "      <td>0.4</td>\n",
       "      <td>0</td>\n",
       "    </tr>\n",
       "    <tr>\n",
       "      <th>...</th>\n",
       "      <td>...</td>\n",
       "      <td>...</td>\n",
       "      <td>...</td>\n",
       "      <td>...</td>\n",
       "      <td>...</td>\n",
       "    </tr>\n",
       "    <tr>\n",
       "      <th>145</th>\n",
       "      <td>4.6</td>\n",
       "      <td>3.6</td>\n",
       "      <td>1.0</td>\n",
       "      <td>0.2</td>\n",
       "      <td>0</td>\n",
       "    </tr>\n",
       "    <tr>\n",
       "      <th>146</th>\n",
       "      <td>5.0</td>\n",
       "      <td>3.3</td>\n",
       "      <td>1.4</td>\n",
       "      <td>0.2</td>\n",
       "      <td>0</td>\n",
       "    </tr>\n",
       "    <tr>\n",
       "      <th>147</th>\n",
       "      <td>5.5</td>\n",
       "      <td>2.6</td>\n",
       "      <td>4.4</td>\n",
       "      <td>1.2</td>\n",
       "      <td>1</td>\n",
       "    </tr>\n",
       "    <tr>\n",
       "      <th>148</th>\n",
       "      <td>7.3</td>\n",
       "      <td>2.9</td>\n",
       "      <td>6.3</td>\n",
       "      <td>1.8</td>\n",
       "      <td>2</td>\n",
       "    </tr>\n",
       "    <tr>\n",
       "      <th>149</th>\n",
       "      <td>6.5</td>\n",
       "      <td>2.8</td>\n",
       "      <td>4.6</td>\n",
       "      <td>1.5</td>\n",
       "      <td>1</td>\n",
       "    </tr>\n",
       "  </tbody>\n",
       "</table>\n",
       "<p>150 rows × 5 columns</p>\n",
       "</div>"
      ],
      "text/plain": [
       "     sepal_length  sepal_width  petal_length  petal_width  class\n",
       "0             5.0          3.6           1.4          0.2      0\n",
       "1             6.6          2.9           4.6          1.3      1\n",
       "2             5.4          3.4           1.7          0.2      0\n",
       "3             5.8          2.8           5.1          2.4      2\n",
       "4             5.4          3.4           1.5          0.4      0\n",
       "..            ...          ...           ...          ...    ...\n",
       "145           4.6          3.6           1.0          0.2      0\n",
       "146           5.0          3.3           1.4          0.2      0\n",
       "147           5.5          2.6           4.4          1.2      1\n",
       "148           7.3          2.9           6.3          1.8      2\n",
       "149           6.5          2.8           4.6          1.5      1\n",
       "\n",
       "[150 rows x 5 columns]"
      ]
     },
     "execution_count": 9,
     "metadata": {},
     "output_type": "execute_result"
    }
   ],
   "source": [
    "df #check that it worked as expected"
   ]
  },
  {
   "cell_type": "code",
   "execution_count": 10,
   "id": "139e6d28",
   "metadata": {},
   "outputs": [],
   "source": [
    "X_train, y_train = df.drop('class', axis=1)[:-30].to_numpy(), df['class'][:-30].to_numpy() #training set"
   ]
  },
  {
   "cell_type": "code",
   "execution_count": 11,
   "id": "62052094",
   "metadata": {},
   "outputs": [],
   "source": [
    "X_test, y_test = df.drop('class', axis=1)[-30:].to_numpy(), df['class'][-30:].to_numpy() #test set"
   ]
  },
  {
   "cell_type": "code",
   "execution_count": 12,
   "id": "396ccad4",
   "metadata": {},
   "outputs": [
    {
     "data": {
      "text/plain": [
       "array([[5.9, 6.3, 5.1, 5.8, 6.7, 5. , 5. , 5.1, 5.1, 6. , 6.5, 5.6, 5.1,\n",
       "        4.7, 4.8, 5.5, 4.6, 5.5, 6.6, 4.9, 6.7, 5.6, 5.7, 4.4, 4.9, 4.6,\n",
       "        5. , 5.5, 7.3, 6.5],\n",
       "       [3.2, 2.5, 3.7, 4. , 3.1, 3.5, 3.2, 3.3, 3.8, 3. , 3. , 2.8, 3.4,\n",
       "        3.2, 3.4, 2.4, 3.1, 2.3, 3. , 2.5, 3.1, 3. , 2.9, 3. , 3.1, 3.6,\n",
       "        3.3, 2.6, 2.9, 2.8],\n",
       "       [4.8, 5. , 1.5, 1.2, 4.7, 1.6, 1.2, 1.7, 1.9, 4.8, 5.2, 4.9, 1.5,\n",
       "        1.3, 1.9, 3.8, 1.5, 4. , 4.4, 4.5, 5.6, 4.1, 4.2, 1.3, 1.5, 1. ,\n",
       "        1.4, 4.4, 6.3, 4.6],\n",
       "       [1.8, 1.9, 0.4, 0.2, 1.5, 0.6, 0.2, 0.5, 0.4, 1.8, 2. , 2. , 0.2,\n",
       "        0.2, 0.2, 1.1, 0.2, 1.3, 1.4, 1.7, 2.4, 1.3, 1.3, 0.2, 0.1, 0.2,\n",
       "        0.2, 1.2, 1.8, 1.5]])"
      ]
     },
     "execution_count": 12,
     "metadata": {},
     "output_type": "execute_result"
    }
   ],
   "source": [
    "X_test.T"
   ]
  },
  {
   "cell_type": "code",
   "execution_count": 13,
   "id": "687f89de",
   "metadata": {},
   "outputs": [],
   "source": [
    "scaler = StandardScaler()  #scale training and test data\n",
    "X_trainstd = scaler.fit_transform(X_train)\n",
    "X_teststd = scaler.fit_transform(X_test)"
   ]
  },
  {
   "cell_type": "code",
   "execution_count": 14,
   "id": "69021b13",
   "metadata": {},
   "outputs": [],
   "source": [
    "#print(X_trainstd)"
   ]
  },
  {
   "cell_type": "code",
   "execution_count": 15,
   "id": "b566aae8",
   "metadata": {},
   "outputs": [],
   "source": [
    "from sklearn.linear_model import LogisticRegression"
   ]
  },
  {
   "cell_type": "code",
   "execution_count": 16,
   "id": "d43222b5",
   "metadata": {},
   "outputs": [],
   "source": [
    "logreg = LogisticRegression(multi_class='multinomial', tol=1e-5, C=5e-1, max_iter=1e3)"
   ]
  },
  {
   "cell_type": "code",
   "execution_count": 18,
   "id": "5ebecb1f",
   "metadata": {},
   "outputs": [
    {
     "data": {
      "text/plain": [
       "array([[9.76912335e-01, 2.30830118e-02, 4.65318806e-06],\n",
       "       [1.42425636e-02, 7.76384573e-01, 2.09372863e-01],\n",
       "       [9.16711924e-01, 8.32618871e-02, 2.61888544e-05],\n",
       "       [7.56989830e-04, 8.39631687e-02, 9.15279841e-01],\n",
       "       [9.11353774e-01, 8.86034288e-02, 4.27976686e-05],\n",
       "       [9.91423962e-01, 8.57413204e-03, 1.90627892e-06],\n",
       "       [4.73137508e-02, 8.39588656e-01, 1.13097593e-01],\n",
       "       [1.33018667e-04, 6.69678977e-02, 9.32899084e-01],\n",
       "       [8.53749628e-04, 2.68851761e-01, 7.30294489e-01],\n",
       "       [9.92750662e-01, 7.24814431e-03, 1.19405006e-06],\n",
       "       [2.09757021e-03, 5.99091954e-01, 3.98810475e-01],\n",
       "       [1.75748162e-05, 2.96972921e-02, 9.70285133e-01],\n",
       "       [9.30591322e-01, 6.93962650e-02, 1.24125692e-05],\n",
       "       [8.41150400e-02, 6.14232246e-01, 3.01652714e-01],\n",
       "       [3.74794215e-04, 8.01049426e-02, 9.19520263e-01],\n",
       "       [2.36288278e-02, 8.22211745e-01, 1.54159427e-01],\n",
       "       [5.05651298e-02, 9.19983373e-01, 2.94514968e-02],\n",
       "       [2.90919327e-04, 6.55077016e-02, 9.34201379e-01],\n",
       "       [1.04260721e-01, 8.15366965e-01, 8.03723143e-02],\n",
       "       [1.91180243e-03, 2.61706979e-01, 7.36381218e-01],\n",
       "       [2.07665584e-04, 2.40785888e-02, 9.75713746e-01],\n",
       "       [5.67579025e-02, 8.97672981e-01, 4.55691163e-02],\n",
       "       [9.16195633e-01, 8.37853568e-02, 1.90098083e-05],\n",
       "       [9.67604815e-01, 3.23870806e-02, 8.10437562e-06],\n",
       "       [5.52055255e-04, 1.41289213e-01, 8.58158732e-01],\n",
       "       [9.44558278e-01, 5.54297333e-02, 1.19885202e-05],\n",
       "       [8.23733418e-04, 4.82070875e-02, 9.50969179e-01],\n",
       "       [1.77589516e-04, 4.12741549e-02, 9.58548256e-01],\n",
       "       [8.95950797e-02, 8.12455453e-01, 9.79494672e-02],\n",
       "       [9.61360913e-01, 3.86279757e-02, 1.11117464e-05],\n",
       "       [9.59621203e-01, 4.03713331e-02, 7.46369051e-06],\n",
       "       [9.71277941e-01, 2.87175474e-02, 4.51191496e-06],\n",
       "       [9.81887831e-01, 1.81065919e-02, 5.57732544e-06],\n",
       "       [9.24163283e-03, 4.01235988e-01, 5.89522380e-01],\n",
       "       [1.19611140e-06, 1.11692391e-02, 9.88829565e-01],\n",
       "       [2.09506260e-04, 4.83756493e-02, 9.51414844e-01],\n",
       "       [9.65981981e-01, 3.40148516e-02, 3.16767438e-06],\n",
       "       [6.05134580e-02, 7.06815248e-01, 2.32671294e-01],\n",
       "       [1.39731096e-02, 6.80595040e-01, 3.05431851e-01],\n",
       "       [9.72174575e-03, 3.69423848e-01, 6.20854406e-01],\n",
       "       [9.91429976e-01, 8.56591403e-03, 4.11045137e-06],\n",
       "       [9.49078303e-04, 8.13127778e-02, 9.17738144e-01],\n",
       "       [7.96194213e-02, 7.03185380e-01, 2.17195198e-01],\n",
       "       [9.21170286e-01, 7.88105896e-02, 1.91238972e-05],\n",
       "       [7.89908609e-03, 5.72638669e-01, 4.19462245e-01],\n",
       "       [1.43375692e-01, 8.41646586e-01, 1.49777223e-02],\n",
       "       [3.50567869e-03, 3.02273152e-01, 6.94221169e-01],\n",
       "       [3.52071124e-03, 6.06371520e-01, 3.90107769e-01],\n",
       "       [7.63210355e-02, 8.99026090e-01, 2.46528741e-02],\n",
       "       [2.48021861e-02, 8.20874256e-01, 1.54323558e-01],\n",
       "       [4.22317943e-04, 8.35231999e-02, 9.16054482e-01],\n",
       "       [9.43546512e-01, 5.64269937e-02, 2.64943911e-05],\n",
       "       [4.21251970e-03, 4.08909687e-01, 5.86877793e-01],\n",
       "       [7.08106563e-05, 8.93878567e-02, 9.10541333e-01],\n",
       "       [6.63453501e-03, 5.64214881e-01, 4.29150584e-01],\n",
       "       [2.66529614e-04, 7.95613940e-02, 9.20172076e-01],\n",
       "       [3.39648661e-02, 5.80045184e-01, 3.85989950e-01],\n",
       "       [9.47725590e-01, 5.22629500e-02, 1.14597797e-05],\n",
       "       [5.86218159e-02, 8.37024261e-01, 1.04353923e-01],\n",
       "       [3.36995329e-02, 6.82368547e-01, 2.83931920e-01],\n",
       "       [3.41281075e-03, 2.10626843e-01, 7.85960346e-01],\n",
       "       [3.67790133e-02, 8.53726545e-01, 1.09494442e-01],\n",
       "       [3.86060149e-02, 9.39476707e-01, 2.19172784e-02],\n",
       "       [9.81873603e-01, 1.81238104e-02, 2.58654035e-06],\n",
       "       [4.81838631e-03, 8.19911488e-01, 1.75270126e-01],\n",
       "       [1.58147366e-01, 8.26087650e-01, 1.57649837e-02],\n",
       "       [8.69302361e-01, 1.30663502e-01, 3.41378746e-05],\n",
       "       [9.73502917e-01, 2.64822656e-02, 1.48175492e-05],\n",
       "       [2.19205389e-02, 7.48822664e-01, 2.29256797e-01],\n",
       "       [9.74143259e-01, 2.58503345e-02, 6.40676983e-06],\n",
       "       [9.18931307e-01, 8.10567792e-02, 1.19133516e-05],\n",
       "       [3.28514499e-02, 8.22125453e-01, 1.45023097e-01],\n",
       "       [8.98522794e-01, 1.01456143e-01, 2.10625695e-05],\n",
       "       [5.05760702e-03, 4.14193053e-01, 5.80749340e-01],\n",
       "       [5.19502853e-02, 8.79487995e-01, 6.85617193e-02],\n",
       "       [1.04829643e-05, 3.47462513e-02, 9.65243266e-01],\n",
       "       [8.75599437e-04, 9.28781838e-02, 9.06246217e-01],\n",
       "       [4.22372332e-02, 8.08052328e-01, 1.49710438e-01],\n",
       "       [1.51633400e-05, 2.53264152e-02, 9.74658421e-01],\n",
       "       [9.08479910e-05, 1.70080775e-02, 9.82901074e-01],\n",
       "       [1.74445327e-04, 2.84075090e-02, 9.71418046e-01],\n",
       "       [2.65726041e-03, 6.96277985e-01, 3.01064755e-01],\n",
       "       [3.69082541e-02, 8.68240042e-01, 9.48517038e-02],\n",
       "       [9.57055243e-01, 4.29350041e-02, 9.75321534e-06],\n",
       "       [3.66300460e-02, 8.86301347e-01, 7.70686075e-02],\n",
       "       [9.68538874e-01, 3.14531882e-02, 7.93791282e-06],\n",
       "       [2.33012158e-04, 4.79236701e-02, 9.51843318e-01],\n",
       "       [1.25693515e-01, 8.14934826e-01, 5.93716585e-02],\n",
       "       [4.25003684e-04, 1.04996988e-01, 8.94578009e-01],\n",
       "       [3.31597730e-03, 2.55640474e-01, 7.41043548e-01],\n",
       "       [9.57237250e-01, 4.27525044e-02, 1.02452018e-05],\n",
       "       [2.02851738e-03, 8.01174956e-02, 9.17853987e-01],\n",
       "       [9.82484070e-01, 1.75115775e-02, 4.35276157e-06],\n",
       "       [6.72168100e-01, 3.27752165e-01, 7.97355876e-05],\n",
       "       [1.16856122e-02, 9.39849620e-01, 4.84647678e-02],\n",
       "       [2.10596186e-03, 2.48030896e-01, 7.49863142e-01],\n",
       "       [9.65153297e-01, 3.48393782e-02, 7.32471338e-06],\n",
       "       [9.46955768e-01, 5.30318934e-02, 1.23386274e-05],\n",
       "       [1.88319624e-03, 2.39689884e-01, 7.58426920e-01],\n",
       "       [3.61890138e-03, 5.31825485e-01, 4.64555613e-01],\n",
       "       [3.94318735e-04, 1.05745753e-01, 8.93859929e-01],\n",
       "       [3.50567869e-03, 3.02273152e-01, 6.94221169e-01],\n",
       "       [9.52926799e-01, 4.70518135e-02, 2.13873066e-05],\n",
       "       [2.60481513e-02, 7.06924029e-01, 2.67027820e-01],\n",
       "       [9.64781657e-01, 3.52100570e-02, 8.28623012e-06],\n",
       "       [2.23555157e-02, 7.25559985e-01, 2.52084500e-01],\n",
       "       [6.14662519e-03, 5.08209924e-01, 4.85643451e-01],\n",
       "       [2.23918536e-04, 1.79690724e-01, 8.20085357e-01],\n",
       "       [5.65837936e-04, 1.12480128e-01, 8.86954035e-01],\n",
       "       [9.86742233e-02, 8.84901990e-01, 1.64237864e-02],\n",
       "       [9.80094007e-01, 1.98985013e-02, 7.49203417e-06],\n",
       "       [9.01451315e-01, 9.85215776e-02, 2.71079225e-05],\n",
       "       [9.71711190e-01, 2.82819548e-02, 6.85533889e-06],\n",
       "       [5.23477975e-02, 7.46720546e-01, 2.00931656e-01],\n",
       "       [3.24869465e-02, 7.37726793e-01, 2.29786260e-01],\n",
       "       [8.68860760e-05, 2.08497220e-02, 9.79063392e-01],\n",
       "       [9.85878366e-04, 2.27610762e-01, 7.71403360e-01],\n",
       "       [2.83338250e-03, 3.81387507e-01, 6.15779110e-01],\n",
       "       [5.43015131e-03, 6.70059633e-01, 3.24510215e-01],\n",
       "       [4.46401302e-02, 9.05929134e-01, 4.94307363e-02]])"
      ]
     },
     "execution_count": 18,
     "metadata": {},
     "output_type": "execute_result"
    }
   ],
   "source": [
    "estimator=logreg.fit(X_trainstd, y_train)\n",
    "#logreg.predict_proba(X_trainstd)"
   ]
  },
  {
   "cell_type": "code",
   "execution_count": 19,
   "id": "18b91db6",
   "metadata": {},
   "outputs": [],
   "source": [
    "predicted_species = logreg.predict(X_teststd)"
   ]
  },
  {
   "cell_type": "code",
   "execution_count": 21,
   "id": "ad1d4a17",
   "metadata": {},
   "outputs": [
    {
     "data": {
      "application/vnd.jupyter.widget-view+json": {
       "model_id": "096b2526d90b444b8635ef086860404d",
       "version_major": 2,
       "version_minor": 0
      },
      "text/plain": [
       "Canvas(toolbar=Toolbar(toolitems=[('Home', 'Reset original view', 'home', 'home'), ('Back', 'Back to previous …"
      ]
     },
     "metadata": {},
     "output_type": "display_data"
    },
    {
     "data": {
      "text/plain": [
       "(array([14.,  0.,  0.,  0.,  0.,  9.,  0.,  0.,  0.,  7.]),\n",
       " array([0. , 0.2, 0.4, 0.6, 0.8, 1. , 1.2, 1.4, 1.6, 1.8, 2. ]),\n",
       " <BarContainer object of 10 artists>)"
      ]
     },
     "execution_count": 21,
     "metadata": {},
     "output_type": "execute_result"
    }
   ],
   "source": [
    "ifig = 1;plt.close(ifig);plt.figure()\n",
    "plt.hist(predicted_species, alpha=1, color='gray') #predictions\n",
    "plt.hist(y_test, alpha=0.5, color ='g') # ground truth\n",
    "#light green high precision low recall -> not predicting incorrectly but missing values\n",
    "#gray low precision high recall -> incorrectly predicting values "
   ]
  },
  {
   "cell_type": "code",
   "execution_count": 22,
   "id": "16427fe1",
   "metadata": {},
   "outputs": [],
   "source": [
    "import sklearn.metrics as skmetrics\n",
    "confM = skmetrics.confusion_matrix(y_test,predicted_species)   #(y_true, y_predicted)"
   ]
  },
  {
   "cell_type": "code",
   "execution_count": 23,
   "id": "61421378",
   "metadata": {},
   "outputs": [
    {
     "name": "stdout",
     "output_type": "stream",
     "text": [
      "              precision    recall  f1-score   support\n",
      "\n",
      "           0       1.00      1.00      1.00        14\n",
      "           1       1.00      0.56      0.71         9\n",
      "           2       0.64      1.00      0.78         7\n",
      "\n",
      "    accuracy                           0.87        30\n",
      "   macro avg       0.88      0.85      0.83        30\n",
      "weighted avg       0.92      0.87      0.86        30\n",
      "\n"
     ]
    }
   ],
   "source": [
    "print(skmetrics.classification_report(y_test,predicted_species)) #f1 score = 2*((precision*recall)/(precision+recall))"
   ]
  },
  {
   "cell_type": "code",
   "execution_count": 24,
   "id": "afc70eeb",
   "metadata": {},
   "outputs": [
    {
     "data": {
      "text/plain": [
       "array([0.91666667, 1.        , 1.        , 1.        , 0.91666667,\n",
       "       0.83333333, 1.        , 1.        , 0.91666667, 1.        ])"
      ]
     },
     "execution_count": 24,
     "metadata": {},
     "output_type": "execute_result"
    }
   ],
   "source": [
    "from sklearn.model_selection import cross_val_score\n",
    "cross_val_score(estimator, X_train, y_train, cv=10, scoring = 'accuracy')"
   ]
  },
  {
   "cell_type": "code",
   "execution_count": 25,
   "id": "9cc91896",
   "metadata": {},
   "outputs": [
    {
     "data": {
      "text/plain": [
       "array([0.82604617, 1.        , 1.        , 1.        , 0.82604617,\n",
       "       0.77155617, 1.        , 1.        , 0.81971597, 1.        ])"
      ]
     },
     "execution_count": 25,
     "metadata": {},
     "output_type": "execute_result"
    }
   ],
   "source": [
    "cross_val_score(estimator, X_train, y_train, cv=10, scoring = 'completeness_score') # 1-H(Ypred|YTrue)/H(Ytrue)\n",
    "#see https://scikit-learn.org/stable/modules/model_evaluation.html#confusion-matrix or better\n",
    "#https://esigma6.wordpress.com/2018/11/03/2-3-9-3-homogeneity-completeness-and-v-measure/ for more info"
   ]
  },
  {
   "cell_type": "code",
   "execution_count": 26,
   "id": "a9b6e552",
   "metadata": {},
   "outputs": [
    {
     "data": {
      "text/plain": [
       "(0.7724935564912162, 0.7983812880039207, 0.7852241096958964)"
      ]
     },
     "execution_count": 26,
     "metadata": {},
     "output_type": "execute_result"
    }
   ],
   "source": [
    "#skmetrics.homogeneity_completeness_v_measure(y_test, predicted_species)"
   ]
  },
  {
   "cell_type": "code",
   "execution_count": null,
   "id": "5b924588",
   "metadata": {},
   "outputs": [],
   "source": []
  },
  {
   "cell_type": "code",
   "execution_count": null,
   "id": "66cddffa",
   "metadata": {},
   "outputs": [],
   "source": []
  },
  {
   "cell_type": "code",
   "execution_count": 88,
   "id": "ffe4044a",
   "metadata": {},
   "outputs": [],
   "source": [
    "predicted_virginica_PL = X_test.T[2][predicted_species == name_class_dict['Virginica']]\n",
    "predicted_virginica_PW = X_test.T[3][predicted_species == name_class_dict['Virginica']]\n",
    "\n",
    "predicted_versicolor_PL = X_test.T[2][predicted_species == name_class_dict['Versicolor']]\n",
    "predicted_versicolor_PW = X_test.T[3][predicted_species == name_class_dict['Versicolor']]\n",
    "\n",
    "\n",
    "predicted_setosa_PL = X_test.T[2][predicted_species == name_class_dict['Setosa']]\n",
    "predicted_setosa_PW = X_test.T[3][predicted_species == name_class_dict['Setosa']]"
   ]
  },
  {
   "cell_type": "code",
   "execution_count": 91,
   "id": "afc77874",
   "metadata": {},
   "outputs": [
    {
     "data": {
      "application/vnd.jupyter.widget-view+json": {
       "model_id": "86c6bd8a58aa449b8ad26dd5a4906f12",
       "version_major": 2,
       "version_minor": 0
      },
      "text/plain": [
       "Canvas(toolbar=Toolbar(toolitems=[('Home', 'Reset original view', 'home', 'home'), ('Back', 'Back to previous …"
      ]
     },
     "metadata": {},
     "output_type": "display_data"
    },
    {
     "name": "stdout",
     "output_type": "stream",
     "text": [
      "[[-0.9  -0.9 ]\n",
      " [-0.88 -0.9 ]\n",
      " [-0.86 -0.9 ]\n",
      " ...\n",
      " [ 3.44  7.88]\n",
      " [ 3.46  7.88]\n",
      " [ 3.48  7.88]]\n"
     ]
    },
    {
     "ename": "ValueError",
     "evalue": "X has 2 features per sample; expecting 4",
     "output_type": "error",
     "traceback": [
      "\u001b[0;31m---------------------------------------------------------------------------\u001b[0m",
      "\u001b[0;31mValueError\u001b[0m                                Traceback (most recent call last)",
      "\u001b[0;32m<ipython-input-91-c067ad95ce2a>\u001b[0m in \u001b[0;36m<module>\u001b[0;34m\u001b[0m\n\u001b[1;32m     29\u001b[0m \u001b[0;31m# point in the mesh [x_min, x_max]x[y_min, y_max].\u001b[0m\u001b[0;34m\u001b[0m\u001b[0;34m\u001b[0m\u001b[0;34m\u001b[0m\u001b[0m\n\u001b[1;32m     30\u001b[0m \u001b[0mprint\u001b[0m\u001b[0;34m(\u001b[0m\u001b[0mnp\u001b[0m\u001b[0;34m.\u001b[0m\u001b[0mc_\u001b[0m\u001b[0;34m[\u001b[0m\u001b[0mxx\u001b[0m\u001b[0;34m.\u001b[0m\u001b[0mravel\u001b[0m\u001b[0;34m(\u001b[0m\u001b[0;34m)\u001b[0m\u001b[0;34m,\u001b[0m \u001b[0myy\u001b[0m\u001b[0;34m.\u001b[0m\u001b[0mravel\u001b[0m\u001b[0;34m(\u001b[0m\u001b[0;34m)\u001b[0m\u001b[0;34m]\u001b[0m\u001b[0;34m)\u001b[0m\u001b[0;34m\u001b[0m\u001b[0;34m\u001b[0m\u001b[0m\n\u001b[0;32m---> 31\u001b[0;31m \u001b[0mZ\u001b[0m \u001b[0;34m=\u001b[0m \u001b[0mlogreg\u001b[0m\u001b[0;34m.\u001b[0m\u001b[0mpredict\u001b[0m\u001b[0;34m(\u001b[0m\u001b[0mnp\u001b[0m\u001b[0;34m.\u001b[0m\u001b[0mc_\u001b[0m\u001b[0;34m[\u001b[0m\u001b[0mxx\u001b[0m\u001b[0;34m.\u001b[0m\u001b[0mravel\u001b[0m\u001b[0;34m(\u001b[0m\u001b[0;34m)\u001b[0m\u001b[0;34m,\u001b[0m \u001b[0myy\u001b[0m\u001b[0;34m.\u001b[0m\u001b[0mravel\u001b[0m\u001b[0;34m(\u001b[0m\u001b[0;34m)\u001b[0m\u001b[0;34m]\u001b[0m\u001b[0;34m)\u001b[0m\u001b[0;34m\u001b[0m\u001b[0;34m\u001b[0m\u001b[0m\n\u001b[0m\u001b[1;32m     32\u001b[0m \u001b[0;31m# Put the result into a color plot\u001b[0m\u001b[0;34m\u001b[0m\u001b[0;34m\u001b[0m\u001b[0;34m\u001b[0m\u001b[0m\n\u001b[1;32m     33\u001b[0m \u001b[0mZ\u001b[0m \u001b[0;34m=\u001b[0m \u001b[0mZ\u001b[0m\u001b[0;34m.\u001b[0m\u001b[0mreshape\u001b[0m\u001b[0;34m(\u001b[0m\u001b[0mxx\u001b[0m\u001b[0;34m.\u001b[0m\u001b[0mshape\u001b[0m\u001b[0;34m)\u001b[0m\u001b[0;34m\u001b[0m\u001b[0;34m\u001b[0m\u001b[0m\n",
      "\u001b[0;32m~/anaconda3/lib/python3.8/site-packages/sklearn/linear_model/_base.py\u001b[0m in \u001b[0;36mpredict\u001b[0;34m(self, X)\u001b[0m\n\u001b[1;32m    307\u001b[0m             \u001b[0mPredicted\u001b[0m \u001b[0;32mclass\u001b[0m \u001b[0mlabel\u001b[0m \u001b[0mper\u001b[0m \u001b[0msample\u001b[0m\u001b[0;34m.\u001b[0m\u001b[0;34m\u001b[0m\u001b[0;34m\u001b[0m\u001b[0m\n\u001b[1;32m    308\u001b[0m         \"\"\"\n\u001b[0;32m--> 309\u001b[0;31m         \u001b[0mscores\u001b[0m \u001b[0;34m=\u001b[0m \u001b[0mself\u001b[0m\u001b[0;34m.\u001b[0m\u001b[0mdecision_function\u001b[0m\u001b[0;34m(\u001b[0m\u001b[0mX\u001b[0m\u001b[0;34m)\u001b[0m\u001b[0;34m\u001b[0m\u001b[0;34m\u001b[0m\u001b[0m\n\u001b[0m\u001b[1;32m    310\u001b[0m         \u001b[0;32mif\u001b[0m \u001b[0mlen\u001b[0m\u001b[0;34m(\u001b[0m\u001b[0mscores\u001b[0m\u001b[0;34m.\u001b[0m\u001b[0mshape\u001b[0m\u001b[0;34m)\u001b[0m \u001b[0;34m==\u001b[0m \u001b[0;36m1\u001b[0m\u001b[0;34m:\u001b[0m\u001b[0;34m\u001b[0m\u001b[0;34m\u001b[0m\u001b[0m\n\u001b[1;32m    311\u001b[0m             \u001b[0mindices\u001b[0m \u001b[0;34m=\u001b[0m \u001b[0;34m(\u001b[0m\u001b[0mscores\u001b[0m \u001b[0;34m>\u001b[0m \u001b[0;36m0\u001b[0m\u001b[0;34m)\u001b[0m\u001b[0;34m.\u001b[0m\u001b[0mastype\u001b[0m\u001b[0;34m(\u001b[0m\u001b[0mint\u001b[0m\u001b[0;34m)\u001b[0m\u001b[0;34m\u001b[0m\u001b[0;34m\u001b[0m\u001b[0m\n",
      "\u001b[0;32m~/anaconda3/lib/python3.8/site-packages/sklearn/linear_model/_base.py\u001b[0m in \u001b[0;36mdecision_function\u001b[0;34m(self, X)\u001b[0m\n\u001b[1;32m    286\u001b[0m         \u001b[0mn_features\u001b[0m \u001b[0;34m=\u001b[0m \u001b[0mself\u001b[0m\u001b[0;34m.\u001b[0m\u001b[0mcoef_\u001b[0m\u001b[0;34m.\u001b[0m\u001b[0mshape\u001b[0m\u001b[0;34m[\u001b[0m\u001b[0;36m1\u001b[0m\u001b[0;34m]\u001b[0m\u001b[0;34m\u001b[0m\u001b[0;34m\u001b[0m\u001b[0m\n\u001b[1;32m    287\u001b[0m         \u001b[0;32mif\u001b[0m \u001b[0mX\u001b[0m\u001b[0;34m.\u001b[0m\u001b[0mshape\u001b[0m\u001b[0;34m[\u001b[0m\u001b[0;36m1\u001b[0m\u001b[0;34m]\u001b[0m \u001b[0;34m!=\u001b[0m \u001b[0mn_features\u001b[0m\u001b[0;34m:\u001b[0m\u001b[0;34m\u001b[0m\u001b[0;34m\u001b[0m\u001b[0m\n\u001b[0;32m--> 288\u001b[0;31m             raise ValueError(\"X has %d features per sample; expecting %d\"\n\u001b[0m\u001b[1;32m    289\u001b[0m                              % (X.shape[1], n_features))\n\u001b[1;32m    290\u001b[0m \u001b[0;34m\u001b[0m\u001b[0m\n",
      "\u001b[0;31mValueError\u001b[0m: X has 2 features per sample; expecting 4"
     ]
    }
   ],
   "source": [
    "ifig = 2;plt.close(ifig);plt.figure(figsize=(8,6))\n",
    "\n",
    "plt.scatter(df.petal_length[df['class'] == name_class_dict['Versicolor']] ,\\\n",
    "                            df.petal_width[df['class'] == name_class_dict['Versicolor']], c='green', marker='x', s=30,\\\n",
    "                            label='Versicolor') \n",
    "\n",
    "plt.scatter(df.petal_length[df['class'] == name_class_dict['Setosa']] ,\\\n",
    "                            df.petal_width[df['class'] == name_class_dict['Setosa']], c='m', marker='v', s=30,\\\n",
    "                            label='Setosa' )\n",
    "\n",
    "plt.scatter(df.petal_length[df['class'] == name_class_dict['Virginica']] ,\\\n",
    "                            df.petal_width[df['class'] == name_class_dict['Virginica']], c='blueviolet', marker='*', s=30,\\\n",
    "                            label='Virginica') \n",
    "\n",
    "plt.scatter(predicted_virginica_PL,predicted_virginica_PW, c='blueviolet', marker='*', alpha=0.5,s=70) \n",
    "plt.scatter(predicted_versicolor_PL,predicted_versicolor_PW, c='green', marker='x', alpha=0.5,s=70) \n",
    "plt.scatter(predicted_setosa_PL,predicted_setosa_PW, c='m', marker='v', alpha=0.5, s=70) \n",
    "\n",
    "\n",
    "\n",
    "# create a mesh to plot in\n",
    "h = .02  # step size in the mesh\n",
    "x_min, x_max = df.petal_width.min() - 1, df.petal_width.max() + 1\n",
    "y_min, y_max = df.petal_width.min() - 1, df.petal_length.max() + 1\n",
    "xx, yy = np.meshgrid(np.arange(x_min, x_max, h),\n",
    "                     np.arange(y_min, y_max, h))\n",
    "\n",
    "# Plot the decision boundary. For that, we will assign a color to each\n",
    "# point in the mesh [x_min, x_max]x[y_min, y_max].\n",
    "print(np.c_[xx.ravel(), yy.ravel()])\n",
    "Z = logreg.predict(np.c_[xx.ravel(), yy.ravel()])\n",
    "# Put the result into a color plot\n",
    "Z = Z.reshape(xx.shape)\n",
    "plt.figure()\n",
    "plt.contourf(xx, yy, Z, cmap=plt.cm.Paired)\n",
    "plt.title(\"Decision surface of LogisticRegression (%s)\" % multi_class)\n",
    "plt.axis('tight')\n",
    "\n",
    "\n",
    "\n",
    "\n",
    "#plt.plot(fake_petal_length,fake_petal_width)\n",
    "plt.xlabel('petal length [cm]')\n",
    "plt.ylabel('petal width [cm]')\n",
    "plt.legend()"
   ]
  },
  {
   "cell_type": "code",
   "execution_count": 31,
   "id": "c625ec27",
   "metadata": {},
   "outputs": [],
   "source": [
    "plt.scatter?"
   ]
  },
  {
   "cell_type": "code",
   "execution_count": 93,
   "id": "1d45d947",
   "metadata": {},
   "outputs": [
    {
     "name": "stdout",
     "output_type": "stream",
     "text": [
      "[[-2.38519938  0.02641654]\n",
      " [-1.74830343 -1.4226907 ]\n",
      " [-2.45431681 -1.46071435]\n",
      " ...\n",
      " [-1.88691344 -1.67526794]\n",
      " [-0.96714666  4.62965124]\n",
      " [ 1.21127093  1.53964501]] [0 0 0 2 1 1 0 0 0 1 2 2 2 1 1 1 1 2 0 2 0 1 0 1 1 2 0 1 1 1 2 0 2 0 2 1 2\n",
      " 2 0 0 1 0 0 0 1 2 0 0 0 2 0 0 0 1 1 0 1 2 0 1 2 1 2 2 0 1 1 0 1 0 1 2 1 1\n",
      " 0 2 1 2 0 0 1 1 2 0 0 2 1 2 1 2 2 2 1 1 2 2 0 0 0 0 2 2 0 1 0 0 1 2 2 1 2\n",
      " 1 0 1 1 2 0 2 1 1 0 1 2 2 2 0 0 1 0 2 0 2 2 1 2 1 0 1 2 2 2 2 2 1 1 1 1 2\n",
      " 2 2 1 2 1 0 0 1 1 1 1 1 2 0 0 1 2 2 2 0 1 2 1 1 1 0 1 2 0 2 2 0 2 2 1 1 2\n",
      " 0 1 0 0 2 1 1 0 1 0 1 1 0 0 0 1 2 2 1 0 0 1 0 1 1 2 0 0 0 1 2 1 2 1 2 0 2\n",
      " 1 1 0 2 2 1 1 1 0 0 2 2 2 0 2 2 2 2 1 0 2 2 1 0 2 2 0 0 2 0 2 0 2 0 2 0 2\n",
      " 2 0 1 1 1 1 2 1 1 1 2 1 2 0 1 2 0 0 2 2 2 0 2 0 0 1 1 1 2 1 0 2 0 0 0 2 2\n",
      " 0 2 2 1 2 0 0 2 1 1 1 0 1 2 2 2 0 0 2 0 0 1 1 0 0 0 0 0 2 2 1 2 2 1 2 1 1\n",
      " 2 0 0 1 0 0 2 2 1 1 0 1 0 0 2 2 2 1 1 2 0 0 2 2 2 1 1 0 1 2 1 1 2 1 2 0 0\n",
      " 0 2 1 0 1 1 1 1 1 1 2 0 1 0 1 2 2 0 2 1 2 1 2 2 0 1 2 1 0 0 1 2 2 0 2 1 0\n",
      " 2 2 1 0 1 1 2 1 2 2 1 2 0 1 2 0 2 1 2 0 1 2 2 1 0 0 2 1 2 1 0 0 1 1 2 2 1\n",
      " 1 0 0 2 0 2 0 0 0 0 1 0 0 0 2 0 2 2 2 0 0 0 1 2 0 0 1 2 0 1 2 1 0 2 0 0 2\n",
      " 0 2 2 1 1 1 0 1 2 1 1 0 0 1 1 1 2 0 2 0 1 2 1 0 2 2 2 0 2 1 1 2 1 2 0 1 0\n",
      " 2 2 1 0 0 1 0 1 2 2 2 2 2 2 0 2 2 0 2 2 2 2 0 2 2 0 0 0 2 2 0 1 1 1 0 1 0\n",
      " 1 0 2 0 2 2 1 0 0 2 0 0 2 1 0 0 0 1 1 2 0 0 2 2 0 2 2 0 2 2 1 1 1 1 0 0 1\n",
      " 0 1 0 2 1 1 0 0 2 1 2 0 1 2 2 1 0 1 1 0 0 2 0 0 2 1 1 0 0 0 2 0 1 1 2 1 0\n",
      " 0 1 2 1 1 1 1 0 2 0 2 2 2 0 1 0 1 0 0 1 1 0 2 2 0 0 0 0 2 1 2 1 0 1 2 2 0\n",
      " 0 1 2 2 1 2 0 2 2 0 2 1 1 2 0 0 0 2 0 1 2 1 2 2 2 1 1 1 1 1 2 2 0 1 0 2 1\n",
      " 1 0 0 2 1 0 0 2 0 0 2 1 2 2 2 2 1 0 0 1 0 2 0 0 0 0 1 0 1 0 0 0 1 2 2 2 0\n",
      " 2 0 0 2 2 0 1 2 2 2 0 1 0 2 1 1 2 1 2 0 0 1 1 0 1 1 0 0 1 0 2 0 0 0 1 2 0\n",
      " 0 2 0 0 1 0 2 0 2 2 1 1 2 0 0 1 2 2 2 1 2 2 1 0 2 0 0 2 0 1 1 1 0 2 2 1 0\n",
      " 0 2 2 1 0 1 1 1 1 2 1 2 1 0 1 0 1 2 0 0 1 0 1 1 2 0 1 0 1 2 2 1 0 2 0 1 0\n",
      " 0 0 0 2 0 1 2 1 2 2 1 1 1 2 1 0 1 1 1 0 2 2 0 0 1 2 0 1 1 1 0 0 2 0 1 0 1\n",
      " 1 2 2 0 2 2 0 0 0 1 1 0 0 2 0 2 2 1 2 2 0 0 1 1 2 1 1 2 1 0 1 1 0 1 1 0 0\n",
      " 2 0 1 1 1 1 2 2 1 2 0 1 2 1 1 0 2 0 0 0 1 2 0 1 2 1 2 1 1 1 0 0 1 1 2 2 1\n",
      " 1 1 1 0 2 2 2 1 1 2 2 1 1 0 0 0 2 2 1 1 0 0 1 0 2 1 1 2 2 0 2 2 1 2 1 0 1\n",
      " 2]\n",
      "training score : 0.995 (multinomial)\n",
      "[[-4.61124176 -5.88341015]\n",
      " [-4.59124176 -5.88341015]\n",
      " [-4.57124176 -5.88341015]\n",
      " ...\n",
      " [ 5.22875824  6.39658985]\n",
      " [ 5.24875824  6.39658985]\n",
      " [ 5.26875824  6.39658985]]\n"
     ]
    },
    {
     "data": {
      "application/vnd.jupyter.widget-view+json": {
       "model_id": "827b7bca349447cf8ebeab43871534db",
       "version_major": 2,
       "version_minor": 0
      },
      "text/plain": [
       "Canvas(toolbar=Toolbar(toolitems=[('Home', 'Reset original view', 'home', 'home'), ('Back', 'Back to previous …"
      ]
     },
     "metadata": {},
     "output_type": "display_data"
    },
    {
     "name": "stdout",
     "output_type": "stream",
     "text": [
      "training score : 0.976 (ovr)\n",
      "[[-4.61124176 -5.88341015]\n",
      " [-4.59124176 -5.88341015]\n",
      " [-4.57124176 -5.88341015]\n",
      " ...\n",
      " [ 5.22875824  6.39658985]\n",
      " [ 5.24875824  6.39658985]\n",
      " [ 5.26875824  6.39658985]]\n"
     ]
    },
    {
     "data": {
      "application/vnd.jupyter.widget-view+json": {
       "model_id": "60bf6880a16c4b508ab691c96d8ccb0f",
       "version_major": 2,
       "version_minor": 0
      },
      "text/plain": [
       "Canvas(toolbar=Toolbar(toolitems=[('Home', 'Reset original view', 'home', 'home'), ('Back', 'Back to previous …"
      ]
     },
     "metadata": {},
     "output_type": "display_data"
    }
   ],
   "source": [
    "import numpy as np\n",
    "import matplotlib.pyplot as plt\n",
    "from sklearn.datasets import make_blobs\n",
    "from sklearn.linear_model import LogisticRegression\n",
    "\n",
    "# make 3-class dataset for classification\n",
    "centers = [[-5, 0], [0, 1.5], [5, -1]]\n",
    "X, y = make_blobs(n_samples=1000, centers=centers, random_state=40)\n",
    "transformation = [[0.4, 0.2], [-0.4, 1.2]]\n",
    "X = np.dot(X, transformation)\n",
    "print(X,y)\n",
    "\n",
    "for multi_class in ('multinomial', 'ovr'):\n",
    "    clf = LogisticRegression(solver='sag', max_iter=100, random_state=42,\n",
    "                             multi_class=multi_class).fit(X, y)\n",
    "\n",
    "    # print the training scores\n",
    "    print(\"training score : %.3f (%s)\" % (clf.score(X, y), multi_class))\n",
    "\n",
    "    # create a mesh to plot in\n",
    "    h = .02  # step size in the mesh\n",
    "    x_min, x_max = X[:, 0].min() - 1, X[:, 0].max() + 1\n",
    "    y_min, y_max = X[:, 1].min() - 1, X[:, 1].max() + 1\n",
    "    xx, yy = np.meshgrid(np.arange(x_min, x_max, h),\n",
    "                         np.arange(y_min, y_max, h))\n",
    "\n",
    "    # Plot the decision boundary. For that, we will assign a color to each\n",
    "    # point in the mesh [x_min, x_max]x[y_min, y_max].\n",
    "    print(np.c_[xx.ravel(), yy.ravel()])\n",
    "    Z = clf.predict(np.c_[xx.ravel(), yy.ravel()])\n",
    "    # Put the result into a color plot\n",
    "    Z = Z.reshape(xx.shape)\n",
    "    plt.figure()\n",
    "    plt.contourf(xx, yy, Z, cmap=plt.cm.Paired)\n",
    "    plt.title(\"Decision surface of LogisticRegression (%s)\" % multi_class)\n",
    "    plt.axis('tight')\n",
    "\n",
    "    # Plot also the training points\n",
    "    colors = \"bry\"\n",
    "    for i, color in zip(clf.classes_, colors):\n",
    "        idx = np.where(y == i)\n",
    "        plt.scatter(X[idx, 0], X[idx, 1], c=color, cmap=plt.cm.Paired,\n",
    "                    edgecolor='black', s=20)\n",
    "\n",
    "    # Plot the three one-against-all classifiers\n",
    "    xmin, xmax = plt.xlim()\n",
    "    ymin, ymax = plt.ylim()\n",
    "    coef = clf.coef_\n",
    "    intercept = clf.intercept_\n",
    "\n",
    "    def plot_hyperplane(c, color):\n",
    "        def line(x0):\n",
    "            return (-(x0 * coef[c, 0]) - intercept[c]) / coef[c, 1]\n",
    "        plt.plot([xmin, xmax], [line(xmin), line(xmax)],\n",
    "                 ls=\"--\", color=color)\n",
    "\n",
    "    for i, color in zip(clf.classes_, colors):\n",
    "        plot_hyperplane(i, color)\n",
    "\n",
    "plt.show()"
   ]
  },
  {
   "cell_type": "code",
   "execution_count": 90,
   "id": "9449b935",
   "metadata": {},
   "outputs": [
    {
     "data": {
      "text/plain": [
       "array([[-2.38519938,  0.02641654],\n",
       "       [-1.74830343, -1.4226907 ],\n",
       "       [-2.45431681, -1.46071435],\n",
       "       ...,\n",
       "       [-1.88691344, -1.67526794],\n",
       "       [-0.96714666,  4.62965124],\n",
       "       [ 1.21127093,  1.53964501]])"
      ]
     },
     "execution_count": 90,
     "metadata": {},
     "output_type": "execute_result"
    }
   ],
   "source": [
    "X"
   ]
  },
  {
   "cell_type": "code",
   "execution_count": null,
   "id": "d6477c3d",
   "metadata": {},
   "outputs": [],
   "source": []
  }
 ],
 "metadata": {
  "kernelspec": {
   "display_name": "Python 3",
   "language": "python",
   "name": "python3"
  },
  "language_info": {
   "codemirror_mode": {
    "name": "ipython",
    "version": 3
   },
   "file_extension": ".py",
   "mimetype": "text/x-python",
   "name": "python",
   "nbconvert_exporter": "python",
   "pygments_lexer": "ipython3",
   "version": "3.8.8"
  }
 },
 "nbformat": 4,
 "nbformat_minor": 5
}
