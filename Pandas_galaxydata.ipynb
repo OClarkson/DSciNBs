{
 "cells": [
  {
   "cell_type": "code",
   "execution_count": 26,
   "id": "c4bf983a",
   "metadata": {},
   "outputs": [],
   "source": [
    "%matplotlib widget\n",
    "import caesar\n",
    "import numpy as np\n",
    "import pandas as pd\n",
    "import seaborn as sb\n",
    "import matplotlib.pyplot as plt\n",
    "import scipy "
   ]
  },
  {
   "cell_type": "code",
   "execution_count": 2,
   "id": "a11b9016",
   "metadata": {},
   "outputs": [
    {
     "name": "stderr",
     "output_type": "stream",
     "text": [
      "yt : [INFO     ] 2021-08-16 16:46:59,308 Opening ./data/caesar_296.hdf5\n",
      "yt : [INFO     ] 2021-08-16 16:46:59,532 Found 54135 halos\n",
      "yt : [INFO     ] 2021-08-16 16:46:59,578 Found 6480 galaxies\n"
     ]
    }
   ],
   "source": [
    "obj = caesar.load('./data/caesar_296.hdf5')"
   ]
  },
  {
   "cell_type": "code",
   "execution_count": 3,
   "id": "dec5559d",
   "metadata": {},
   "outputs": [],
   "source": [
    "#obj.galaxies[1].masses"
   ]
  },
  {
   "cell_type": "code",
   "execution_count": 4,
   "id": "040d8627",
   "metadata": {},
   "outputs": [],
   "source": [
    "orig_index = np.arange(0,len(obj.galaxies))\n",
    "sfr = np.array([gal.sfr for gal in obj.galaxies])\n",
    "stellar_masses = np.array([gal.masses['stellar'] for gal in obj.galaxies])\n",
    "bh_masses = np.array([gal.masses['bh'] for gal in obj.galaxies])\n",
    "gas_masses = np.array([gal.masses['gas'] for gal in obj.galaxies])\n",
    "metallicity = np.array([gal.metallicities['stellar'] for gal in obj.galaxies])                    \n",
    "temp = obj.galaxies[1].temperatures['mass_weighted']\n",
    "radius = np.array([gal.radii['stellar_r20'] for gal in obj.galaxies])\n"
   ]
  },
  {
   "cell_type": "code",
   "execution_count": 5,
   "id": "791e48c0",
   "metadata": {},
   "outputs": [],
   "source": [
    "bh_masses[bh_masses == 0] = 1e-99\n",
    "stellar_masses[stellar_masses == 0] = 1e-99\n",
    "gas_masses[gas_masses == 0] = 1e-99\n",
    "metallicity[metallicity == 0] = 1e-99"
   ]
  },
  {
   "cell_type": "code",
   "execution_count": 6,
   "id": "a173dfb2",
   "metadata": {},
   "outputs": [],
   "source": [
    "#obj.galaxies[1].virial_quantities"
   ]
  },
  {
   "cell_type": "code",
   "execution_count": 7,
   "id": "fc71959c",
   "metadata": {},
   "outputs": [],
   "source": [
    "#obj.galaxies[1].radii"
   ]
  },
  {
   "cell_type": "code",
   "execution_count": 8,
   "id": "177007e2",
   "metadata": {},
   "outputs": [],
   "source": [
    "gal_data = pd.DataFrame({'ID': orig_index, 'bh_masses': np.log10(bh_masses),\\\n",
    "                         'stellar_masses': np.log10(stellar_masses), 'sfr': sfr, 'gas_masses' : np.log10(gas_masses),\\\n",
    "                         'metallicity' : np.log10(metallicity), 'radius' : radius})"
   ]
  },
  {
   "cell_type": "code",
   "execution_count": 9,
   "id": "876cfd46",
   "metadata": {},
   "outputs": [
    {
     "data": {
      "text/html": [
       "<div>\n",
       "<style scoped>\n",
       "    .dataframe tbody tr th:only-of-type {\n",
       "        vertical-align: middle;\n",
       "    }\n",
       "\n",
       "    .dataframe tbody tr th {\n",
       "        vertical-align: top;\n",
       "    }\n",
       "\n",
       "    .dataframe thead th {\n",
       "        text-align: right;\n",
       "    }\n",
       "</style>\n",
       "<table border=\"1\" class=\"dataframe\">\n",
       "  <thead>\n",
       "    <tr style=\"text-align: right;\">\n",
       "      <th></th>\n",
       "      <th>ID</th>\n",
       "      <th>bh_masses</th>\n",
       "      <th>stellar_masses</th>\n",
       "      <th>sfr</th>\n",
       "      <th>gas_masses</th>\n",
       "      <th>metallicity</th>\n",
       "      <th>radius</th>\n",
       "    </tr>\n",
       "  </thead>\n",
       "  <tbody>\n",
       "    <tr>\n",
       "      <th>0</th>\n",
       "      <td>0</td>\n",
       "      <td>10.290369</td>\n",
       "      <td>12.025144</td>\n",
       "      <td>0.0</td>\n",
       "      <td>-99.0</td>\n",
       "      <td>-1.709673</td>\n",
       "      <td>12.585268</td>\n",
       "    </tr>\n",
       "    <tr>\n",
       "      <th>1</th>\n",
       "      <td>1</td>\n",
       "      <td>9.681071</td>\n",
       "      <td>11.917035</td>\n",
       "      <td>0.0</td>\n",
       "      <td>-99.0</td>\n",
       "      <td>-1.686568</td>\n",
       "      <td>7.108331</td>\n",
       "    </tr>\n",
       "    <tr>\n",
       "      <th>2</th>\n",
       "      <td>2</td>\n",
       "      <td>9.890138</td>\n",
       "      <td>11.900508</td>\n",
       "      <td>0.0</td>\n",
       "      <td>-99.0</td>\n",
       "      <td>-1.713443</td>\n",
       "      <td>8.093110</td>\n",
       "    </tr>\n",
       "    <tr>\n",
       "      <th>3</th>\n",
       "      <td>3</td>\n",
       "      <td>9.811176</td>\n",
       "      <td>11.867450</td>\n",
       "      <td>0.0</td>\n",
       "      <td>-99.0</td>\n",
       "      <td>-1.702289</td>\n",
       "      <td>7.462501</td>\n",
       "    </tr>\n",
       "    <tr>\n",
       "      <th>4</th>\n",
       "      <td>4</td>\n",
       "      <td>9.830744</td>\n",
       "      <td>11.821318</td>\n",
       "      <td>0.0</td>\n",
       "      <td>-99.0</td>\n",
       "      <td>-1.691337</td>\n",
       "      <td>7.025398</td>\n",
       "    </tr>\n",
       "    <tr>\n",
       "      <th>...</th>\n",
       "      <td>...</td>\n",
       "      <td>...</td>\n",
       "      <td>...</td>\n",
       "      <td>...</td>\n",
       "      <td>...</td>\n",
       "      <td>...</td>\n",
       "      <td>...</td>\n",
       "    </tr>\n",
       "    <tr>\n",
       "      <th>6475</th>\n",
       "      <td>6475</td>\n",
       "      <td>-99.000000</td>\n",
       "      <td>8.431755</td>\n",
       "      <td>0.0</td>\n",
       "      <td>-99.0</td>\n",
       "      <td>-2.948695</td>\n",
       "      <td>2.281374</td>\n",
       "    </tr>\n",
       "    <tr>\n",
       "      <th>6476</th>\n",
       "      <td>6476</td>\n",
       "      <td>-99.000000</td>\n",
       "      <td>8.423798</td>\n",
       "      <td>0.0</td>\n",
       "      <td>-99.0</td>\n",
       "      <td>-2.864811</td>\n",
       "      <td>2.289696</td>\n",
       "    </tr>\n",
       "    <tr>\n",
       "      <th>6477</th>\n",
       "      <td>6477</td>\n",
       "      <td>-99.000000</td>\n",
       "      <td>8.422195</td>\n",
       "      <td>0.0</td>\n",
       "      <td>-99.0</td>\n",
       "      <td>-3.026400</td>\n",
       "      <td>1.733394</td>\n",
       "    </tr>\n",
       "    <tr>\n",
       "      <th>6478</th>\n",
       "      <td>6478</td>\n",
       "      <td>-99.000000</td>\n",
       "      <td>8.418205</td>\n",
       "      <td>0.0</td>\n",
       "      <td>-99.0</td>\n",
       "      <td>-2.740298</td>\n",
       "      <td>2.117305</td>\n",
       "    </tr>\n",
       "    <tr>\n",
       "      <th>6479</th>\n",
       "      <td>6479</td>\n",
       "      <td>-99.000000</td>\n",
       "      <td>8.418110</td>\n",
       "      <td>0.0</td>\n",
       "      <td>-99.0</td>\n",
       "      <td>-2.823231</td>\n",
       "      <td>1.183213</td>\n",
       "    </tr>\n",
       "  </tbody>\n",
       "</table>\n",
       "<p>6480 rows × 7 columns</p>\n",
       "</div>"
      ],
      "text/plain": [
       "        ID  bh_masses  stellar_masses  sfr  gas_masses  metallicity     radius\n",
       "0        0  10.290369       12.025144  0.0       -99.0    -1.709673  12.585268\n",
       "1        1   9.681071       11.917035  0.0       -99.0    -1.686568   7.108331\n",
       "2        2   9.890138       11.900508  0.0       -99.0    -1.713443   8.093110\n",
       "3        3   9.811176       11.867450  0.0       -99.0    -1.702289   7.462501\n",
       "4        4   9.830744       11.821318  0.0       -99.0    -1.691337   7.025398\n",
       "...    ...        ...             ...  ...         ...          ...        ...\n",
       "6475  6475 -99.000000        8.431755  0.0       -99.0    -2.948695   2.281374\n",
       "6476  6476 -99.000000        8.423798  0.0       -99.0    -2.864811   2.289696\n",
       "6477  6477 -99.000000        8.422195  0.0       -99.0    -3.026400   1.733394\n",
       "6478  6478 -99.000000        8.418205  0.0       -99.0    -2.740298   2.117305\n",
       "6479  6479 -99.000000        8.418110  0.0       -99.0    -2.823231   1.183213\n",
       "\n",
       "[6480 rows x 7 columns]"
      ]
     },
     "execution_count": 9,
     "metadata": {},
     "output_type": "execute_result"
    }
   ],
   "source": [
    "gal_data"
   ]
  },
  {
   "cell_type": "code",
   "execution_count": 11,
   "id": "f4c49989",
   "metadata": {},
   "outputs": [
    {
     "data": {
      "application/vnd.jupyter.widget-view+json": {
       "model_id": "048ddbeee6c54855a7a62dca3330039f",
       "version_major": 2,
       "version_minor": 0
      },
      "text/plain": [
       "Canvas(toolbar=Toolbar(toolitems=[('Home', 'Reset original view', 'home', 'home'), ('Back', 'Back to previous …"
      ]
     },
     "metadata": {},
     "output_type": "display_data"
    }
   ],
   "source": [
    "pd.plotting.scatter_matrix(gal_data, alpha=0.2, figsize=(10, 10), diagonal=\"kde\");"
   ]
  },
  {
   "cell_type": "code",
   "execution_count": 25,
   "id": "eda8f55f",
   "metadata": {},
   "outputs": [
    {
     "data": {
      "application/vnd.jupyter.widget-view+json": {
       "model_id": "10446df0f63747f5a5c9331a8497ab4e",
       "version_major": 2,
       "version_minor": 0
      },
      "text/plain": [
       "Canvas(toolbar=Toolbar(toolitems=[('Home', 'Reset original view', 'home', 'home'), ('Back', 'Back to previous …"
      ]
     },
     "metadata": {},
     "output_type": "display_data"
    },
    {
     "data": {
      "text/plain": [
       "(-0.1, 4.0)"
      ]
     },
     "execution_count": 25,
     "metadata": {},
     "output_type": "execute_result"
    }
   ],
   "source": [
    "ifig=1;plt.close(ifig);plt.figure(ifig) \n",
    "plt.scatter(gal_data.stellar_masses, gal_data.sfr, s=2, alpha=0.5);\n",
    "plt.xlabel('log stellar mass')\n",
    "plt.ylabel('sfr')\n",
    "plt.ylim(-0.1,4)"
   ]
  },
  {
   "cell_type": "code",
   "execution_count": 51,
   "id": "2ef1e88c",
   "metadata": {},
   "outputs": [],
   "source": [
    "bin_means, bin_edges, num = scipy.stats.binned_statistic(gal_data.stellar_masses, gal_data.sfr, statistic='mean', bins=20, range=None)"
   ]
  },
  {
   "cell_type": "code",
   "execution_count": 62,
   "id": "4d85d978",
   "metadata": {},
   "outputs": [],
   "source": [
    "central_pt = center = (bin_edges[:-1] + bin_edges[1:]) / 2"
   ]
  },
  {
   "cell_type": "code",
   "execution_count": 63,
   "id": "d02e01a7",
   "metadata": {},
   "outputs": [
    {
     "data": {
      "application/vnd.jupyter.widget-view+json": {
       "model_id": "f24fc56f5baa4e1095df38871c38eb08",
       "version_major": 2,
       "version_minor": 0
      },
      "text/plain": [
       "Canvas(toolbar=Toolbar(toolitems=[('Home', 'Reset original view', 'home', 'home'), ('Back', 'Back to previous …"
      ]
     },
     "metadata": {},
     "output_type": "display_data"
    },
    {
     "data": {
      "text/plain": [
       "[<matplotlib.lines.Line2D at 0x7ff3b233bac0>]"
      ]
     },
     "execution_count": 63,
     "metadata": {},
     "output_type": "execute_result"
    }
   ],
   "source": [
    "ifig=2;plt.close(ifig);plt.figure(ifig) \n",
    "plt.step(central_pt,bin_means, color='k')"
   ]
  },
  {
   "cell_type": "code",
   "execution_count": null,
   "id": "8e080e1b",
   "metadata": {},
   "outputs": [],
   "source": []
  }
 ],
 "metadata": {
  "kernelspec": {
   "display_name": "Python 3",
   "language": "python",
   "name": "python3"
  },
  "language_info": {
   "codemirror_mode": {
    "name": "ipython",
    "version": 3
   },
   "file_extension": ".py",
   "mimetype": "text/x-python",
   "name": "python",
   "nbconvert_exporter": "python",
   "pygments_lexer": "ipython3",
   "version": "3.8.8"
  }
 },
 "nbformat": 4,
 "nbformat_minor": 5
}
