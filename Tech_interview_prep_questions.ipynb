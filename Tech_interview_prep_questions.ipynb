{
 "cells": [
  {
   "cell_type": "code",
   "execution_count": 2,
   "id": "50e88827",
   "metadata": {},
   "outputs": [],
   "source": [
    "import numpy as np\n",
    "from datetime import datetime\n"
   ]
  },
  {
   "cell_type": "markdown",
   "id": "083edbfc",
   "metadata": {},
   "source": [
    "# Given two dates in the provided format, create a function that calculates the difference between two dates in seconds"
   ]
  },
  {
   "cell_type": "code",
   "execution_count": 18,
   "id": "2a0a50aa",
   "metadata": {},
   "outputs": [],
   "source": [
    "seconds_per_day = 86400\n",
    "\n",
    "def time_delta(t1, t2):\n",
    "    t1 = datetime.strptime(t1, '%a %d %b %Y %H:%M:%S %z')\n",
    "    t2 = datetime.strptime(t2, '%a %d %b %Y %H:%M:%S %z')\n",
    "    print(t1,t2)\n",
    "    dt = str((t1-t2).days*seconds_per_day + (t1-t2).seconds )\n",
    "    return('There is a difference of {dt}s between the two dates provided'.format(dt=dt))\n"
   ]
  },
  {
   "cell_type": "code",
   "execution_count": 19,
   "id": "44f646bf",
   "metadata": {},
   "outputs": [
    {
     "name": "stdout",
     "output_type": "stream",
     "text": [
      "2015-05-02 19:54:36+05:30 2015-05-01 13:54:36+00:00\n"
     ]
    },
    {
     "data": {
      "text/plain": [
       "'There is a difference of 88200s between the two dates provided'"
      ]
     },
     "execution_count": 19,
     "metadata": {},
     "output_type": "execute_result"
    }
   ],
   "source": [
    "t1 = 'Sat 02 May 2015 19:54:36 +0530'\n",
    "t2 = 'Fri 01 May 2015 13:54:36 -0000'\n",
    "time_delta(t1,t2)"
   ]
  },
  {
   "cell_type": "code",
   "execution_count": 20,
   "id": "b2c0ba20",
   "metadata": {},
   "outputs": [
    {
     "name": "stdout",
     "output_type": "stream",
     "text": [
      "2015-05-10 13:54:36-07:00 2015-05-10 13:54:36+00:00\n"
     ]
    },
    {
     "data": {
      "text/plain": [
       "'There is a difference of 25200s between the two dates provided'"
      ]
     },
     "execution_count": 20,
     "metadata": {},
     "output_type": "execute_result"
    }
   ],
   "source": [
    "t1 = 'Sun 10 May 2015 13:54:36 -0700'\n",
    "t2 = 'Sun 10 May 2015 13:54:36 -0000'\n",
    "time_delta(t1,t2)"
   ]
  },
  {
   "cell_type": "markdown",
   "id": "c77751f4",
   "metadata": {},
   "source": [
    "# Find the second to highest number in a list."
   ]
  },
  {
   "cell_type": "code",
   "execution_count": 143,
   "id": "29065053",
   "metadata": {},
   "outputs": [],
   "source": [
    "def runner_up(scores): \n",
    "    scores= list(scores)\n",
    "    for i in range(len(scores)):  #returns a sorted list (by hand for practice)\n",
    "        for j in range(i+1,len(scores)):\n",
    "            if scores[i] > scores[j]:\n",
    "                scores[i],scores[j] = scores[j],scores[i]\n",
    "                \n",
    "                \n",
    "    highest = scores[-1]\n",
    "    second_highest = float('inf')\n",
    "    i = len(scores)-1\n",
    "    \n",
    "    while second_highest >= highest:\n",
    "        second_highest = scores[i]\n",
    "        i = i - 1\n",
    "\n",
    "       \n",
    "    return(second_highest)\n",
    "            "
   ]
  },
  {
   "cell_type": "code",
   "execution_count": 144,
   "id": "058617ca",
   "metadata": {},
   "outputs": [],
   "source": [
    "def runner_up_numpy(scores):\n",
    "    second_place = np.sort(np.unique(scores))[-2]\n",
    "    return(second_place)\n",
    "    "
   ]
  },
  {
   "cell_type": "code",
   "execution_count": 145,
   "id": "4f88eef3",
   "metadata": {},
   "outputs": [],
   "source": [
    "Test_list1 = [1,4,2,2,7,55,3]\n",
    "Test_list2 = [3,6,9,27,50,12]\n",
    "Test_list3 = [3,6,6,7,7,9,50,50,27,50,12]"
   ]
  },
  {
   "cell_type": "code",
   "execution_count": 150,
   "id": "ebbee395",
   "metadata": {},
   "outputs": [
    {
     "data": {
      "text/plain": [
       "(7, 7)"
      ]
     },
     "execution_count": 150,
     "metadata": {},
     "output_type": "execute_result"
    }
   ],
   "source": [
    "runner_up(Test_list1),runner_up_numpy(Test_list1)"
   ]
  },
  {
   "cell_type": "code",
   "execution_count": 149,
   "id": "a9d475ea",
   "metadata": {},
   "outputs": [
    {
     "data": {
      "text/plain": [
       "(27, 27)"
      ]
     },
     "execution_count": 149,
     "metadata": {},
     "output_type": "execute_result"
    }
   ],
   "source": [
    "runner_up_numpy(Test_list3),runner_up(Test_list3)"
   ]
  },
  {
   "cell_type": "markdown",
   "id": "456fe1e6",
   "metadata": {},
   "source": [
    "# FizzBuzz"
   ]
  },
  {
   "cell_type": "code",
   "execution_count": 157,
   "id": "e3b77a8d",
   "metadata": {},
   "outputs": [
    {
     "name": "stdout",
     "output_type": "stream",
     "text": [
      "1\n",
      "2\n",
      "3 Fizz\n",
      "4\n",
      "5 Buzz\n",
      "6 Fizz\n",
      "7\n",
      "8\n",
      "9 Fizz\n",
      "10 Buzz\n",
      "11\n",
      "12 Fizz\n",
      "13\n",
      "14\n",
      "15 FizzBuzz\n",
      "16\n",
      "17\n",
      "18 Fizz\n",
      "19\n"
     ]
    }
   ],
   "source": [
    "for i in range(1,20):\n",
    "    if i % 3 ==0 and i % 5 == 0:\n",
    "        print(i, 'FizzBuzz')\n",
    "    elif i % 3 == 0:\n",
    "        print(i, 'Fizz')\n",
    "    elif i % 5 == 0:\n",
    "        print(i,'Buzz')\n",
    "    else:\n",
    "        print(i)"
   ]
  },
  {
   "cell_type": "markdown",
   "id": "62cd1fbe",
   "metadata": {},
   "source": [
    "# Calculate the factorial of a number"
   ]
  },
  {
   "cell_type": "code",
   "execution_count": 208,
   "id": "b04dfde8",
   "metadata": {},
   "outputs": [],
   "source": [
    "def factorial(n):\n",
    "    numbers = np.linspace(1,n,n)\n",
    "    \n",
    "    factorial = 1\n",
    "    for i in range(1,n+1):\n",
    "        print(i)\n",
    "        factorial =  factorial * i\n",
    "    return(factorial)"
   ]
  },
  {
   "cell_type": "code",
   "execution_count": 210,
   "id": "5e87bdf0",
   "metadata": {},
   "outputs": [
    {
     "name": "stdout",
     "output_type": "stream",
     "text": [
      "1\n",
      "2\n",
      "3\n",
      "4\n",
      "5\n",
      "6\n",
      "7\n",
      "8\n",
      "9\n",
      "10\n"
     ]
    },
    {
     "data": {
      "text/plain": [
       "3628800"
      ]
     },
     "execution_count": 210,
     "metadata": {},
     "output_type": "execute_result"
    }
   ],
   "source": [
    "factorial(10)"
   ]
  },
  {
   "cell_type": "markdown",
   "id": "469248bb",
   "metadata": {},
   "source": [
    "# Compute the mean of number in a list without np"
   ]
  },
  {
   "cell_type": "code",
   "execution_count": 174,
   "id": "4e79f7bf",
   "metadata": {},
   "outputs": [],
   "source": [
    "def mymean(arr):\n",
    "    total = 0\n",
    "    for i in range(len(arr)):\n",
    "        total = total + arr[i]\n",
    "\n",
    "    mean = total/len(arr)\n",
    "    return(mean)"
   ]
  },
  {
   "cell_type": "code",
   "execution_count": 178,
   "id": "452c9e95",
   "metadata": {},
   "outputs": [
    {
     "data": {
      "text/plain": [
       "3.3333333333333335"
      ]
     },
     "execution_count": 178,
     "metadata": {},
     "output_type": "execute_result"
    }
   ],
   "source": [
    "mymean([1,4,5])"
   ]
  },
  {
   "cell_type": "markdown",
   "id": "d774e905",
   "metadata": {},
   "source": [
    "# Calculate the standard deviation of elements in a list"
   ]
  },
  {
   "cell_type": "code",
   "execution_count": 270,
   "id": "6bebf0f2",
   "metadata": {},
   "outputs": [],
   "source": [
    "def var_std(lst):\n",
    "    mu = mymean(lst)\n",
    "    arg = []\n",
    "    sum_arg = 0\n",
    "    for i in range(len(lst)):\n",
    "        arg.append((lst[i]-mu)**2)\n",
    "        print(arg[i])\n",
    "        sum_arg += arg[i]\n",
    "    print(sum_arg)\n",
    "       \n",
    "    var = sum_arg/(len(lst)-1)\n",
    "    std = (var)**0.5\n",
    "    \n",
    "        \n",
    "    return(var,std)   "
   ]
  },
  {
   "cell_type": "code",
   "execution_count": 272,
   "id": "3830cef2",
   "metadata": {},
   "outputs": [
    {
     "name": "stdout",
     "output_type": "stream",
     "text": [
      "2.25\n",
      "0.25\n",
      "0.25\n",
      "2.25\n",
      "5.0\n"
     ]
    },
    {
     "data": {
      "text/plain": [
       "(1.6666666666666667, 1.2909944487358056)"
      ]
     },
     "execution_count": 272,
     "metadata": {},
     "output_type": "execute_result"
    }
   ],
   "source": [
    "var_std([1,2,3,4])"
   ]
  },
  {
   "cell_type": "code",
   "execution_count": 275,
   "id": "4f71d5e2",
   "metadata": {},
   "outputs": [
    {
     "data": {
      "text/plain": [
       "4"
      ]
     },
     "execution_count": 275,
     "metadata": {},
     "output_type": "execute_result"
    }
   ],
   "source": [
    "funct = lambda x : x**2\n",
    "\n",
    "\n",
    "funct(2)"
   ]
  },
  {
   "cell_type": "code",
   "execution_count": null,
   "id": "3148ce31",
   "metadata": {},
   "outputs": [],
   "source": []
  }
 ],
 "metadata": {
  "kernelspec": {
   "display_name": "Python 3",
   "language": "python",
   "name": "python3"
  },
  "language_info": {
   "codemirror_mode": {
    "name": "ipython",
    "version": 3
   },
   "file_extension": ".py",
   "mimetype": "text/x-python",
   "name": "python",
   "nbconvert_exporter": "python",
   "pygments_lexer": "ipython3",
   "version": "3.8.8"
  }
 },
 "nbformat": 4,
 "nbformat_minor": 5
}
