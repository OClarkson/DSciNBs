{
 "cells": [
  {
   "cell_type": "code",
   "execution_count": 20,
   "id": "7190b12b",
   "metadata": {},
   "outputs": [],
   "source": [
    "%matplotlib widget\n",
    "import numpy as np\n",
    "import matplotlib.pyplot as plt\n",
    "import typhon"
   ]
  },
  {
   "cell_type": "code",
   "execution_count": 38,
   "id": "79c4b976",
   "metadata": {},
   "outputs": [],
   "source": [
    "def Rose(n, d, theta):\n",
    "    k = n/d\n",
    "    x = np.cos(k*theta) * np.cos(theta)\n",
    "    y = np.cos(theta) * np.sin(k*theta)\n",
    "    return(x , y)"
   ]
  },
  {
   "cell_type": "code",
   "execution_count": 63,
   "id": "9a8a433f",
   "metadata": {},
   "outputs": [],
   "source": [
    "thetas = np.linspace(0, 12*np.pi, 1000)\n",
    "n = [1,2,3,4,5]\n",
    "d = [1,2,3,4,5]"
   ]
  },
  {
   "cell_type": "code",
   "execution_count": 65,
   "id": "0cc86269",
   "metadata": {},
   "outputs": [
    {
     "data": {
      "application/vnd.jupyter.widget-view+json": {
       "model_id": "65f25f9057b34f99a49b7290f45728c8",
       "version_major": 2,
       "version_minor": 0
      },
      "text/plain": [
       "Canvas(toolbar=Toolbar(toolitems=[('Home', 'Reset original view', 'home', 'home'), ('Back', 'Back to previous …"
      ]
     },
     "metadata": {},
     "output_type": "display_data"
    }
   ],
   "source": [
    "plt.close('all')\n",
    "fig, axs = plt.subplots(5,5, sharex=True, sharey=True, figsize = (5*2,8*2))\n",
    "\n",
    "for i in range(len(n)):\n",
    "    for j in range(len(d)):\n",
    "        x, y = Rose(n[i],d[j],thetas)\n",
    "        axs[i,j].set_facecolor('k')\n",
    "        axs[i,j].spines['bottom'].set_color('w')\n",
    "        axs[i,j].spines['top'].set_color('w') \n",
    "        axs[i,j].spines['right'].set_color('w')\n",
    "        axs[i,j].spines['left'].set_color('w')\n",
    "        axs[i,j].scatter(x,y, s=5, cmap=plt.get_cmap('PuRd'), c=thetas)\n",
    "        #axs[i,0].set_ylabel('a = {}, b = {}'.format(a[i], b[i]) ,fontsize=16)\n",
    "        \n",
    "plt.xticks([])\n",
    "plt.yticks([])\n",
    "\n",
    "\n",
    "\n",
    "plt.tight_layout()\n",
    "plt.subplots_adjust(wspace=0, hspace=0)\n",
    "plt.savefig('Rose.png')"
   ]
  },
  {
   "cell_type": "code",
   "execution_count": null,
   "id": "0a53269b",
   "metadata": {},
   "outputs": [],
   "source": []
  },
  {
   "cell_type": "code",
   "execution_count": null,
   "id": "68ba645a",
   "metadata": {},
   "outputs": [],
   "source": []
  }
 ],
 "metadata": {
  "kernelspec": {
   "display_name": "Python 3",
   "language": "python",
   "name": "python3"
  },
  "language_info": {
   "codemirror_mode": {
    "name": "ipython",
    "version": 3
   },
   "file_extension": ".py",
   "mimetype": "text/x-python",
   "name": "python",
   "nbconvert_exporter": "python",
   "pygments_lexer": "ipython3",
   "version": "3.8.8"
  }
 },
 "nbformat": 4,
 "nbformat_minor": 5
}
